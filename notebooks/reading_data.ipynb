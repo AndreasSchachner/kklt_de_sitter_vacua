{
 "cells": [
  {
   "cell_type": "markdown",
   "id": "21b324b7-a827-448a-8180-bba8891e532f",
   "metadata": {},
   "source": [
    "**What's in this notebook?** This notebook explains how to read the data provided in the repository. \n",
    "\n",
    "(*Created:* Andreas Schachner, June 18, 2024)"
   ]
  },
  {
   "cell_type": "markdown",
   "id": "3d060253-a4b3-4dd3-928b-0a4873726005",
   "metadata": {
    "tags": []
   },
   "source": [
    "# Imports"
   ]
  },
  {
   "cell_type": "code",
   "execution_count": 1,
   "id": "db93fea7-a6d8-4367-9cde-67e74309704b",
   "metadata": {
    "tags": []
   },
   "outputs": [],
   "source": [
    "import os, gzip, pickle, sys\n",
    "import pandas as pd\n",
    "import numpy as np\n",
    "\n",
    "# Plotting\n",
    "import matplotlib.pyplot as plt\n",
    "\n",
    "try:\n",
    "    import seaborn as sn\n",
    "except:\n",
    "    import subprocess\n",
    "    import sys\n",
    "    subprocess.check_call([sys.executable, '-m', 'pip', 'install', 'seaborn'])\n",
    "    import seaborn as sn\n",
    "\n",
    "# Import custom libraries\n",
    "sys.path.append(\"../code/\")\n",
    "\n",
    "# Import loading function\n",
    "from utils import load_zipped_pickle"
   ]
  },
  {
   "cell_type": "markdown",
   "id": "d30cec39-4c82-4ff3-b1de-a977cf5301ec",
   "metadata": {},
   "source": [
    "# On the different types of solutions and where to find them"
   ]
  },
  {
   "cell_type": "markdown",
   "id": "22d83553-68c3-44b3-8348-2456799d8b13",
   "metadata": {},
   "source": [
    "Below, we briefly describe how to read in the files for the different types of minima discussed in section 5 and Appendix C of the paper."
   ]
  },
  {
   "cell_type": "markdown",
   "id": "548c1bfe-5f65-40d4-855b-5e2a7d8563f5",
   "metadata": {},
   "source": [
    "## dS solutions"
   ]
  },
  {
   "cell_type": "markdown",
   "id": "034db7c0-c29e-4176-a92f-1312aa08bd5a",
   "metadata": {},
   "source": [
    "### Main examples from section 5"
   ]
  },
  {
   "cell_type": "markdown",
   "id": "a718123e-9779-4966-a3a5-740e5dd98333",
   "metadata": {},
   "source": [
    "The candidate de Sitter vacua can be found here:"
   ]
  },
  {
   "cell_type": "code",
   "execution_count": 2,
   "id": "ddedde45-467d-4498-95d7-88ebb14ca9e4",
   "metadata": {},
   "outputs": [],
   "source": [
    "filename = os.getcwd()+ f\"/../data/dS_examples/data.p\"\n",
    "\n",
    "df_dS = load_zipped_pickle(filename)"
   ]
  },
  {
   "cell_type": "markdown",
   "id": "b03d90ae-c085-4218-8b95-8a087b71f355",
   "metadata": {},
   "source": [
    "All of our files contain a dataframe with each row corresponding to one of the examples in our paper.\n",
    "**We provide a complete list of keys at the end of this section. This includes also a summary of all the data being stored in our files.**\n",
    "\n",
    "As an illustration, we can e.g. display some of the properties here as follows:"
   ]
  },
  {
   "cell_type": "code",
   "execution_count": 3,
   "id": "105cd77d-52db-481b-883c-1e5ba18e2bb0",
   "metadata": {
    "tags": []
   },
   "outputs": [
    {
     "data": {
      "text/html": [
       "<div>\n",
       "<style scoped>\n",
       "    .dataframe tbody tr th:only-of-type {\n",
       "        vertical-align: middle;\n",
       "    }\n",
       "\n",
       "    .dataframe tbody tr th {\n",
       "        vertical-align: top;\n",
       "    }\n",
       "\n",
       "    .dataframe thead th {\n",
       "        text-align: right;\n",
       "    }\n",
       "</style>\n",
       "<table border=\"1\" class=\"dataframe\">\n",
       "  <thead>\n",
       "    <tr style=\"text-align: right;\">\n",
       "      <th></th>\n",
       "      <th>paper name</th>\n",
       "      <th>paper section</th>\n",
       "      <th>h11</th>\n",
       "      <th>h21</th>\n",
       "      <th>gs</th>\n",
       "      <th>W0</th>\n",
       "      <th>gsM</th>\n",
       "      <th>V dS</th>\n",
       "    </tr>\n",
       "  </thead>\n",
       "  <tbody>\n",
       "    <tr>\n",
       "      <th>0</th>\n",
       "      <td>example 1</td>\n",
       "      <td>5.1</td>\n",
       "      <td>150</td>\n",
       "      <td>8</td>\n",
       "      <td>0.065695</td>\n",
       "      <td>0.011498+0.000000j</td>\n",
       "      <td>1.051115</td>\n",
       "      <td>1.937130e-19</td>\n",
       "    </tr>\n",
       "    <tr>\n",
       "      <th>1</th>\n",
       "      <td>example 2</td>\n",
       "      <td>5.2</td>\n",
       "      <td>150</td>\n",
       "      <td>8</td>\n",
       "      <td>0.057086</td>\n",
       "      <td>0.004902+0.000000j</td>\n",
       "      <td>0.913383</td>\n",
       "      <td>1.691952e-20</td>\n",
       "    </tr>\n",
       "    <tr>\n",
       "      <th>2</th>\n",
       "      <td>example 3</td>\n",
       "      <td>5.3</td>\n",
       "      <td>150</td>\n",
       "      <td>8</td>\n",
       "      <td>0.044226</td>\n",
       "      <td>-0.022230-0.000000j</td>\n",
       "      <td>0.796066</td>\n",
       "      <td>4.983236e-19</td>\n",
       "    </tr>\n",
       "    <tr>\n",
       "      <th>3</th>\n",
       "      <td>example 4</td>\n",
       "      <td>5.4</td>\n",
       "      <td>93</td>\n",
       "      <td>5</td>\n",
       "      <td>0.040376</td>\n",
       "      <td>0.053857-0.000000j</td>\n",
       "      <td>0.807523</td>\n",
       "      <td>2.340918e-15</td>\n",
       "    </tr>\n",
       "    <tr>\n",
       "      <th>4</th>\n",
       "      <td>example 5</td>\n",
       "      <td>5.5</td>\n",
       "      <td>93</td>\n",
       "      <td>5</td>\n",
       "      <td>0.046594</td>\n",
       "      <td>-0.030393-0.000000j</td>\n",
       "      <td>0.745512</td>\n",
       "      <td>2.112730e-15</td>\n",
       "    </tr>\n",
       "  </tbody>\n",
       "</table>\n",
       "</div>"
      ],
      "text/plain": [
       "  paper name paper section  h11  h21        gs                  W0       gsM  \\\n",
       "0  example 1           5.1  150    8  0.065695  0.011498+0.000000j  1.051115   \n",
       "1  example 2           5.2  150    8  0.057086  0.004902+0.000000j  0.913383   \n",
       "2  example 3           5.3  150    8  0.044226 -0.022230-0.000000j  0.796066   \n",
       "3  example 4           5.4   93    5  0.040376  0.053857-0.000000j  0.807523   \n",
       "4  example 5           5.5   93    5  0.046594 -0.030393-0.000000j  0.745512   \n",
       "\n",
       "           V dS  \n",
       "0  1.937130e-19  \n",
       "1  1.691952e-20  \n",
       "2  4.983236e-19  \n",
       "3  2.340918e-15  \n",
       "4  2.112730e-15  "
      ]
     },
     "execution_count": 3,
     "metadata": {},
     "output_type": "execute_result"
    }
   ],
   "source": [
    "# Pick keys that we want to display below\n",
    "display_keys = ['paper name','paper section',\"h11\",\"h21\",\"gs\",\"W0\",\"gsM\",\"V dS\"]\n",
    "\n",
    "# Show entries of the dataframe for these keys\n",
    "df_dS[display_keys]"
   ]
  },
  {
   "cell_type": "markdown",
   "id": "7b16c358-6c8b-48b6-9e45-1bde5e0c05eb",
   "metadata": {},
   "source": [
    "As one easily confirms, these are precisely those values as stated in the indicated sections of the paper.\n",
    "\n",
    "For example, to access the data for a dS vacuum in a particular section of the paper, say section 5.1, we can do the following:"
   ]
  },
  {
   "cell_type": "code",
   "execution_count": 4,
   "id": "17bfe23d-0985-4ae0-822c-206d78701426",
   "metadata": {
    "tags": []
   },
   "outputs": [
    {
     "data": {
      "text/html": [
       "<div>\n",
       "<style scoped>\n",
       "    .dataframe tbody tr th:only-of-type {\n",
       "        vertical-align: middle;\n",
       "    }\n",
       "\n",
       "    .dataframe tbody tr th {\n",
       "        vertical-align: top;\n",
       "    }\n",
       "\n",
       "    .dataframe thead th {\n",
       "        text-align: right;\n",
       "    }\n",
       "</style>\n",
       "<table border=\"1\" class=\"dataframe\">\n",
       "  <thead>\n",
       "    <tr style=\"text-align: right;\">\n",
       "      <th></th>\n",
       "      <th>paper name</th>\n",
       "      <th>paper section</th>\n",
       "      <th>h11</th>\n",
       "      <th>h21</th>\n",
       "      <th>gs</th>\n",
       "      <th>W0</th>\n",
       "      <th>gsM</th>\n",
       "      <th>V dS</th>\n",
       "    </tr>\n",
       "  </thead>\n",
       "  <tbody>\n",
       "    <tr>\n",
       "      <th>0</th>\n",
       "      <td>example 1</td>\n",
       "      <td>5.1</td>\n",
       "      <td>150</td>\n",
       "      <td>8</td>\n",
       "      <td>0.065695</td>\n",
       "      <td>0.011498+0.000000j</td>\n",
       "      <td>1.051115</td>\n",
       "      <td>1.937130e-19</td>\n",
       "    </tr>\n",
       "  </tbody>\n",
       "</table>\n",
       "</div>"
      ],
      "text/plain": [
       "  paper name paper section  h11  h21        gs                  W0       gsM  \\\n",
       "0  example 1           5.1  150    8  0.065695  0.011498+0.000000j  1.051115   \n",
       "\n",
       "           V dS  \n",
       "0  1.937130e-19  "
      ]
     },
     "execution_count": 4,
     "metadata": {},
     "output_type": "execute_result"
    }
   ],
   "source": [
    "example_5_1 = df_dS[df_dS[\"paper section\"]==\"5.1\"].copy()\n",
    "example_5_1[display_keys]"
   ]
  },
  {
   "cell_type": "markdown",
   "id": "2a3960a2-70d5-46bf-a010-5b7a8e01532e",
   "metadata": {},
   "source": [
    "This line finds the entry in the key `paper section` that equals `5.1`. Alternatively, we can also grab the data by `paper name`"
   ]
  },
  {
   "cell_type": "code",
   "execution_count": 5,
   "id": "933e61f3-0e9c-452a-b8ae-beabba2a62b2",
   "metadata": {
    "tags": []
   },
   "outputs": [
    {
     "data": {
      "text/html": [
       "<div>\n",
       "<style scoped>\n",
       "    .dataframe tbody tr th:only-of-type {\n",
       "        vertical-align: middle;\n",
       "    }\n",
       "\n",
       "    .dataframe tbody tr th {\n",
       "        vertical-align: top;\n",
       "    }\n",
       "\n",
       "    .dataframe thead th {\n",
       "        text-align: right;\n",
       "    }\n",
       "</style>\n",
       "<table border=\"1\" class=\"dataframe\">\n",
       "  <thead>\n",
       "    <tr style=\"text-align: right;\">\n",
       "      <th></th>\n",
       "      <th>paper name</th>\n",
       "      <th>paper section</th>\n",
       "      <th>h11</th>\n",
       "      <th>h21</th>\n",
       "      <th>gs</th>\n",
       "      <th>W0</th>\n",
       "      <th>gsM</th>\n",
       "      <th>V dS</th>\n",
       "    </tr>\n",
       "  </thead>\n",
       "  <tbody>\n",
       "    <tr>\n",
       "      <th>0</th>\n",
       "      <td>example 1</td>\n",
       "      <td>5.1</td>\n",
       "      <td>150</td>\n",
       "      <td>8</td>\n",
       "      <td>0.065695</td>\n",
       "      <td>0.011498+0.000000j</td>\n",
       "      <td>1.051115</td>\n",
       "      <td>1.937130e-19</td>\n",
       "    </tr>\n",
       "  </tbody>\n",
       "</table>\n",
       "</div>"
      ],
      "text/plain": [
       "  paper name paper section  h11  h21        gs                  W0       gsM  \\\n",
       "0  example 1           5.1  150    8  0.065695  0.011498+0.000000j  1.051115   \n",
       "\n",
       "           V dS  \n",
       "0  1.937130e-19  "
      ]
     },
     "execution_count": 5,
     "metadata": {},
     "output_type": "execute_result"
    }
   ],
   "source": [
    "example_5_1 = df_dS[df_dS[\"paper name\"]==\"example 1\"].copy()\n",
    "example_5_1[display_keys]"
   ]
  },
  {
   "cell_type": "markdown",
   "id": "73f0c080-52bd-4ee5-a559-eb7cec4210f6",
   "metadata": {},
   "source": [
    "Then, we access the values within the dataframe `example_5_1` through the keys (just like in a standard python `dict`):"
   ]
  },
  {
   "cell_type": "code",
   "execution_count": 6,
   "id": "f3bf3faf-0c7c-46a4-be3a-1f79f2fcfc16",
   "metadata": {
    "tags": []
   },
   "outputs": [
    {
     "data": {
      "text/plain": [
       "(0.06569470261013641, 0.011498101152307332)"
      ]
     },
     "execution_count": 6,
     "metadata": {},
     "output_type": "execute_result"
    }
   ],
   "source": [
    "W0 = example_5_1[\"W0\"].values[0]\n",
    "gs = example_5_1[\"gs\"].values[0]\n",
    "(gs,abs(W0))"
   ]
  },
  {
   "cell_type": "markdown",
   "id": "250015c0-6acb-4323-b44c-1e849242e67f",
   "metadata": {},
   "source": [
    "In the notebook [working_with_examples.ipynb](./working_with_examples.ipynb), we provide a more detailed demonstration on how to \n",
    "* construct the CY threefold $X$ and its mirror $\\widetilde{X}$ with [CYTools](https://cy.tools),\n",
    "* validate the stabilisation of all moduli in our dS minima,\n",
    "* make histograms of e.g. divisor and curve volumes (see also the notebook [histograms_for_curve_volumes.ipynb](histograms_for_curve_volumes.ipynb)), and\n",
    "* work with dataframes."
   ]
  },
  {
   "cell_type": "markdown",
   "id": "9ff7ffd3-2ad2-4403-89d6-20dd76a6d738",
   "metadata": {},
   "source": [
    "### 25 additional dS solutions from sections 5.4 and 5.5"
   ]
  },
  {
   "cell_type": "markdown",
   "id": "52118cf7-47fa-4b29-8c66-45a19b172772",
   "metadata": {},
   "source": [
    "As we explained in the main text, we found additional 25 candidate dS solutions which were however not discussed at great length in the draft.\n",
    "We provide the full data in our repository and it can be read as follows:"
   ]
  },
  {
   "cell_type": "code",
   "execution_count": 7,
   "id": "bf2947f0-d090-494e-a187-a1b55b53b42c",
   "metadata": {
    "tags": []
   },
   "outputs": [],
   "source": [
    "filename = os.getcwd()+ f\"/../data/dS_examples/data_extra_dS.p\"\n",
    "\n",
    "df_extra_dS = load_zipped_pickle(filename)"
   ]
  },
  {
   "cell_type": "markdown",
   "id": "8d794b24-9cd7-46a4-b329-dd6ec4365746",
   "metadata": {},
   "source": [
    "As above, we can e.g. display some of the properties here as follows:"
   ]
  },
  {
   "cell_type": "code",
   "execution_count": 8,
   "id": "957e42c5-8d2d-43d7-bdf5-9ffc7ab47869",
   "metadata": {
    "tags": []
   },
   "outputs": [
    {
     "data": {
      "text/html": [
       "<div>\n",
       "<style scoped>\n",
       "    .dataframe tbody tr th:only-of-type {\n",
       "        vertical-align: middle;\n",
       "    }\n",
       "\n",
       "    .dataframe tbody tr th {\n",
       "        vertical-align: top;\n",
       "    }\n",
       "\n",
       "    .dataframe thead th {\n",
       "        text-align: right;\n",
       "    }\n",
       "</style>\n",
       "<table border=\"1\" class=\"dataframe\">\n",
       "  <thead>\n",
       "    <tr style=\"text-align: right;\">\n",
       "      <th></th>\n",
       "      <th>paper name</th>\n",
       "      <th>paper section</th>\n",
       "      <th>h11</th>\n",
       "      <th>h21</th>\n",
       "      <th>gs</th>\n",
       "      <th>W0</th>\n",
       "      <th>gsM</th>\n",
       "      <th>V dS</th>\n",
       "    </tr>\n",
       "  </thead>\n",
       "  <tbody>\n",
       "    <tr>\n",
       "      <th>0</th>\n",
       "      <td>example a</td>\n",
       "      <td>5.4</td>\n",
       "      <td>93</td>\n",
       "      <td>5</td>\n",
       "      <td>0.040592</td>\n",
       "      <td>0.053450+0.000000j</td>\n",
       "      <td>0.811836</td>\n",
       "      <td>2.382623e-15</td>\n",
       "    </tr>\n",
       "    <tr>\n",
       "      <th>1</th>\n",
       "      <td>example b</td>\n",
       "      <td>5.4</td>\n",
       "      <td>93</td>\n",
       "      <td>5</td>\n",
       "      <td>0.040589</td>\n",
       "      <td>0.053456+0.000000j</td>\n",
       "      <td>0.811781</td>\n",
       "      <td>2.409172e-15</td>\n",
       "    </tr>\n",
       "    <tr>\n",
       "      <th>2</th>\n",
       "      <td>example c</td>\n",
       "      <td>5.4</td>\n",
       "      <td>93</td>\n",
       "      <td>5</td>\n",
       "      <td>0.040588</td>\n",
       "      <td>0.053458+0.000000j</td>\n",
       "      <td>0.811761</td>\n",
       "      <td>2.418565e-15</td>\n",
       "    </tr>\n",
       "    <tr>\n",
       "      <th>3</th>\n",
       "      <td>example d</td>\n",
       "      <td>5.4</td>\n",
       "      <td>93</td>\n",
       "      <td>5</td>\n",
       "      <td>0.040587</td>\n",
       "      <td>0.053459+0.000000j</td>\n",
       "      <td>0.811747</td>\n",
       "      <td>2.425100e-15</td>\n",
       "    </tr>\n",
       "    <tr>\n",
       "      <th>4</th>\n",
       "      <td>example e</td>\n",
       "      <td>5.4</td>\n",
       "      <td>93</td>\n",
       "      <td>5</td>\n",
       "      <td>0.040586</td>\n",
       "      <td>0.053463-0.000000j</td>\n",
       "      <td>0.811714</td>\n",
       "      <td>2.439680e-15</td>\n",
       "    </tr>\n",
       "    <tr>\n",
       "      <th>5</th>\n",
       "      <td>example f</td>\n",
       "      <td>5.4</td>\n",
       "      <td>93</td>\n",
       "      <td>5</td>\n",
       "      <td>0.040581</td>\n",
       "      <td>0.053472+0.000000j</td>\n",
       "      <td>0.811619</td>\n",
       "      <td>2.479431e-15</td>\n",
       "    </tr>\n",
       "    <tr>\n",
       "      <th>6</th>\n",
       "      <td>example g</td>\n",
       "      <td>5.4</td>\n",
       "      <td>93</td>\n",
       "      <td>5</td>\n",
       "      <td>0.040567</td>\n",
       "      <td>0.053500-0.000000j</td>\n",
       "      <td>0.811337</td>\n",
       "      <td>2.570694e-15</td>\n",
       "    </tr>\n",
       "    <tr>\n",
       "      <th>7</th>\n",
       "      <td>example h</td>\n",
       "      <td>5.4</td>\n",
       "      <td>93</td>\n",
       "      <td>5</td>\n",
       "      <td>0.040565</td>\n",
       "      <td>0.053503+0.000000j</td>\n",
       "      <td>0.811302</td>\n",
       "      <td>2.579960e-15</td>\n",
       "    </tr>\n",
       "    <tr>\n",
       "      <th>8</th>\n",
       "      <td>example i</td>\n",
       "      <td>5.4</td>\n",
       "      <td>93</td>\n",
       "      <td>5</td>\n",
       "      <td>0.040563</td>\n",
       "      <td>0.053507+0.000000j</td>\n",
       "      <td>0.811270</td>\n",
       "      <td>2.588306e-15</td>\n",
       "    </tr>\n",
       "    <tr>\n",
       "      <th>9</th>\n",
       "      <td>example j</td>\n",
       "      <td>5.4</td>\n",
       "      <td>93</td>\n",
       "      <td>5</td>\n",
       "      <td>0.040559</td>\n",
       "      <td>0.053516+0.000000j</td>\n",
       "      <td>0.811178</td>\n",
       "      <td>2.610343e-15</td>\n",
       "    </tr>\n",
       "    <tr>\n",
       "      <th>10</th>\n",
       "      <td>example k</td>\n",
       "      <td>5.4</td>\n",
       "      <td>93</td>\n",
       "      <td>5</td>\n",
       "      <td>0.040559</td>\n",
       "      <td>0.053516+0.000000j</td>\n",
       "      <td>0.811175</td>\n",
       "      <td>2.611107e-15</td>\n",
       "    </tr>\n",
       "    <tr>\n",
       "      <th>11</th>\n",
       "      <td>example l</td>\n",
       "      <td>5.4</td>\n",
       "      <td>93</td>\n",
       "      <td>5</td>\n",
       "      <td>0.040550</td>\n",
       "      <td>0.053534+0.000000j</td>\n",
       "      <td>0.810997</td>\n",
       "      <td>2.646993e-15</td>\n",
       "    </tr>\n",
       "    <tr>\n",
       "      <th>12</th>\n",
       "      <td>example m</td>\n",
       "      <td>5.4</td>\n",
       "      <td>93</td>\n",
       "      <td>5</td>\n",
       "      <td>0.040548</td>\n",
       "      <td>0.053538+0.000000j</td>\n",
       "      <td>0.810952</td>\n",
       "      <td>2.654306e-15</td>\n",
       "    </tr>\n",
       "    <tr>\n",
       "      <th>13</th>\n",
       "      <td>example n</td>\n",
       "      <td>5.4</td>\n",
       "      <td>93</td>\n",
       "      <td>5</td>\n",
       "      <td>0.040542</td>\n",
       "      <td>0.053548+0.000000j</td>\n",
       "      <td>0.810850</td>\n",
       "      <td>2.674195e-15</td>\n",
       "    </tr>\n",
       "    <tr>\n",
       "      <th>14</th>\n",
       "      <td>example o</td>\n",
       "      <td>5.4</td>\n",
       "      <td>93</td>\n",
       "      <td>5</td>\n",
       "      <td>0.040536</td>\n",
       "      <td>0.053562+0.000000j</td>\n",
       "      <td>0.810713</td>\n",
       "      <td>2.684815e-15</td>\n",
       "    </tr>\n",
       "    <tr>\n",
       "      <th>15</th>\n",
       "      <td>example p</td>\n",
       "      <td>5.4</td>\n",
       "      <td>93</td>\n",
       "      <td>5</td>\n",
       "      <td>0.040531</td>\n",
       "      <td>0.053570+0.000000j</td>\n",
       "      <td>0.810623</td>\n",
       "      <td>2.693211e-15</td>\n",
       "    </tr>\n",
       "    <tr>\n",
       "      <th>16</th>\n",
       "      <td>example q</td>\n",
       "      <td>5.4</td>\n",
       "      <td>93</td>\n",
       "      <td>5</td>\n",
       "      <td>0.040528</td>\n",
       "      <td>0.053576+0.000000j</td>\n",
       "      <td>0.810559</td>\n",
       "      <td>2.695916e-15</td>\n",
       "    </tr>\n",
       "    <tr>\n",
       "      <th>17</th>\n",
       "      <td>example r</td>\n",
       "      <td>5.4</td>\n",
       "      <td>93</td>\n",
       "      <td>5</td>\n",
       "      <td>0.040520</td>\n",
       "      <td>0.053591+0.000000j</td>\n",
       "      <td>0.810404</td>\n",
       "      <td>2.692305e-15</td>\n",
       "    </tr>\n",
       "    <tr>\n",
       "      <th>18</th>\n",
       "      <td>example s</td>\n",
       "      <td>5.4</td>\n",
       "      <td>93</td>\n",
       "      <td>5</td>\n",
       "      <td>0.040505</td>\n",
       "      <td>0.053621+0.000000j</td>\n",
       "      <td>0.810098</td>\n",
       "      <td>2.706539e-15</td>\n",
       "    </tr>\n",
       "    <tr>\n",
       "      <th>19</th>\n",
       "      <td>example t</td>\n",
       "      <td>5.4</td>\n",
       "      <td>93</td>\n",
       "      <td>5</td>\n",
       "      <td>0.040476</td>\n",
       "      <td>0.053674+0.000000j</td>\n",
       "      <td>0.809529</td>\n",
       "      <td>2.649267e-15</td>\n",
       "    </tr>\n",
       "    <tr>\n",
       "      <th>20</th>\n",
       "      <td>example u</td>\n",
       "      <td>5.4</td>\n",
       "      <td>93</td>\n",
       "      <td>5</td>\n",
       "      <td>0.040464</td>\n",
       "      <td>0.053697+0.000000j</td>\n",
       "      <td>0.809287</td>\n",
       "      <td>2.620002e-15</td>\n",
       "    </tr>\n",
       "    <tr>\n",
       "      <th>21</th>\n",
       "      <td>example a</td>\n",
       "      <td>5.5</td>\n",
       "      <td>93</td>\n",
       "      <td>5</td>\n",
       "      <td>0.046851</td>\n",
       "      <td>-0.030319+0.000000j</td>\n",
       "      <td>0.749619</td>\n",
       "      <td>2.652089e-15</td>\n",
       "    </tr>\n",
       "    <tr>\n",
       "      <th>22</th>\n",
       "      <td>example b</td>\n",
       "      <td>5.5</td>\n",
       "      <td>93</td>\n",
       "      <td>5</td>\n",
       "      <td>0.046838</td>\n",
       "      <td>-0.030324-0.000000j</td>\n",
       "      <td>0.749410</td>\n",
       "      <td>2.617187e-15</td>\n",
       "    </tr>\n",
       "    <tr>\n",
       "      <th>23</th>\n",
       "      <td>example c</td>\n",
       "      <td>5.5</td>\n",
       "      <td>93</td>\n",
       "      <td>5</td>\n",
       "      <td>0.046740</td>\n",
       "      <td>-0.030354-0.000000j</td>\n",
       "      <td>0.747835</td>\n",
       "      <td>2.394773e-15</td>\n",
       "    </tr>\n",
       "    <tr>\n",
       "      <th>24</th>\n",
       "      <td>example d</td>\n",
       "      <td>5.5</td>\n",
       "      <td>93</td>\n",
       "      <td>5</td>\n",
       "      <td>0.046704</td>\n",
       "      <td>-0.030365-0.000000j</td>\n",
       "      <td>0.747257</td>\n",
       "      <td>2.319912e-15</td>\n",
       "    </tr>\n",
       "  </tbody>\n",
       "</table>\n",
       "</div>"
      ],
      "text/plain": [
       "   paper name paper section  h11  h21        gs                  W0       gsM  \\\n",
       "0   example a           5.4   93    5  0.040592  0.053450+0.000000j  0.811836   \n",
       "1   example b           5.4   93    5  0.040589  0.053456+0.000000j  0.811781   \n",
       "2   example c           5.4   93    5  0.040588  0.053458+0.000000j  0.811761   \n",
       "3   example d           5.4   93    5  0.040587  0.053459+0.000000j  0.811747   \n",
       "4   example e           5.4   93    5  0.040586  0.053463-0.000000j  0.811714   \n",
       "5   example f           5.4   93    5  0.040581  0.053472+0.000000j  0.811619   \n",
       "6   example g           5.4   93    5  0.040567  0.053500-0.000000j  0.811337   \n",
       "7   example h           5.4   93    5  0.040565  0.053503+0.000000j  0.811302   \n",
       "8   example i           5.4   93    5  0.040563  0.053507+0.000000j  0.811270   \n",
       "9   example j           5.4   93    5  0.040559  0.053516+0.000000j  0.811178   \n",
       "10  example k           5.4   93    5  0.040559  0.053516+0.000000j  0.811175   \n",
       "11  example l           5.4   93    5  0.040550  0.053534+0.000000j  0.810997   \n",
       "12  example m           5.4   93    5  0.040548  0.053538+0.000000j  0.810952   \n",
       "13  example n           5.4   93    5  0.040542  0.053548+0.000000j  0.810850   \n",
       "14  example o           5.4   93    5  0.040536  0.053562+0.000000j  0.810713   \n",
       "15  example p           5.4   93    5  0.040531  0.053570+0.000000j  0.810623   \n",
       "16  example q           5.4   93    5  0.040528  0.053576+0.000000j  0.810559   \n",
       "17  example r           5.4   93    5  0.040520  0.053591+0.000000j  0.810404   \n",
       "18  example s           5.4   93    5  0.040505  0.053621+0.000000j  0.810098   \n",
       "19  example t           5.4   93    5  0.040476  0.053674+0.000000j  0.809529   \n",
       "20  example u           5.4   93    5  0.040464  0.053697+0.000000j  0.809287   \n",
       "21  example a           5.5   93    5  0.046851 -0.030319+0.000000j  0.749619   \n",
       "22  example b           5.5   93    5  0.046838 -0.030324-0.000000j  0.749410   \n",
       "23  example c           5.5   93    5  0.046740 -0.030354-0.000000j  0.747835   \n",
       "24  example d           5.5   93    5  0.046704 -0.030365-0.000000j  0.747257   \n",
       "\n",
       "            V dS  \n",
       "0   2.382623e-15  \n",
       "1   2.409172e-15  \n",
       "2   2.418565e-15  \n",
       "3   2.425100e-15  \n",
       "4   2.439680e-15  \n",
       "5   2.479431e-15  \n",
       "6   2.570694e-15  \n",
       "7   2.579960e-15  \n",
       "8   2.588306e-15  \n",
       "9   2.610343e-15  \n",
       "10  2.611107e-15  \n",
       "11  2.646993e-15  \n",
       "12  2.654306e-15  \n",
       "13  2.674195e-15  \n",
       "14  2.684815e-15  \n",
       "15  2.693211e-15  \n",
       "16  2.695916e-15  \n",
       "17  2.692305e-15  \n",
       "18  2.706539e-15  \n",
       "19  2.649267e-15  \n",
       "20  2.620002e-15  \n",
       "21  2.652089e-15  \n",
       "22  2.617187e-15  \n",
       "23  2.394773e-15  \n",
       "24  2.319912e-15  "
      ]
     },
     "execution_count": 8,
     "metadata": {},
     "output_type": "execute_result"
    }
   ],
   "source": [
    "# Pick keys that we want to display below\n",
    "display_keys = ['paper name','paper section',\"h11\",\"h21\",\"gs\",\"W0\",\"gsM\",\"V dS\"]\n",
    "\n",
    "# Show entries of the dataframe for these keys\n",
    "df_extra_dS[display_keys]"
   ]
  },
  {
   "cell_type": "markdown",
   "id": "5f977fc4-af76-4460-817c-acc4bfd177e4",
   "metadata": {},
   "source": [
    "As one easily confirms, these are precisely those values as stated in the indicated sections of the paper.\n",
    "\n",
    "For example, to access the data for a particular dS vacuum for say section 5.4, we can do the following:"
   ]
  },
  {
   "cell_type": "code",
   "execution_count": 9,
   "id": "49b21d4a-70ab-4e2c-a10b-a4048b01f6ed",
   "metadata": {
    "tags": []
   },
   "outputs": [
    {
     "data": {
      "text/html": [
       "<div>\n",
       "<style scoped>\n",
       "    .dataframe tbody tr th:only-of-type {\n",
       "        vertical-align: middle;\n",
       "    }\n",
       "\n",
       "    .dataframe tbody tr th {\n",
       "        vertical-align: top;\n",
       "    }\n",
       "\n",
       "    .dataframe thead th {\n",
       "        text-align: right;\n",
       "    }\n",
       "</style>\n",
       "<table border=\"1\" class=\"dataframe\">\n",
       "  <thead>\n",
       "    <tr style=\"text-align: right;\">\n",
       "      <th></th>\n",
       "      <th>paper name</th>\n",
       "      <th>paper section</th>\n",
       "      <th>h11</th>\n",
       "      <th>h21</th>\n",
       "      <th>gs</th>\n",
       "      <th>W0</th>\n",
       "      <th>gsM</th>\n",
       "      <th>V dS</th>\n",
       "    </tr>\n",
       "  </thead>\n",
       "  <tbody>\n",
       "    <tr>\n",
       "      <th>0</th>\n",
       "      <td>example a</td>\n",
       "      <td>5.4</td>\n",
       "      <td>93</td>\n",
       "      <td>5</td>\n",
       "      <td>0.040592</td>\n",
       "      <td>0.05345+0.00000j</td>\n",
       "      <td>0.811836</td>\n",
       "      <td>2.382623e-15</td>\n",
       "    </tr>\n",
       "  </tbody>\n",
       "</table>\n",
       "</div>"
      ],
      "text/plain": [
       "  paper name paper section  h11  h21        gs                W0       gsM  \\\n",
       "0  example a           5.4   93    5  0.040592  0.05345+0.00000j  0.811836   \n",
       "\n",
       "           V dS  \n",
       "0  2.382623e-15  "
      ]
     },
     "execution_count": 9,
     "metadata": {},
     "output_type": "execute_result"
    }
   ],
   "source": [
    "example_5_4_a = df_extra_dS[(df_extra_dS[\"paper section\"]==\"5.4\")&(df_extra_dS[\"paper name\"]==\"example a\")].copy()\n",
    "example_5_4_a[display_keys]"
   ]
  },
  {
   "cell_type": "markdown",
   "id": "3a4b2e68-ac79-4b13-97e2-24fce7dc95c0",
   "metadata": {},
   "source": [
    "Then, we access the values within the dataframe `example_5_4_a` through the keys (just like in a standard python `dict`):"
   ]
  },
  {
   "cell_type": "code",
   "execution_count": 10,
   "id": "a0f9237d-9821-4bf0-a1c1-98e86b29c96b",
   "metadata": {
    "tags": []
   },
   "outputs": [
    {
     "data": {
      "text/plain": [
       "(0.06569470261013641, 0.011498101152307332)"
      ]
     },
     "execution_count": 10,
     "metadata": {},
     "output_type": "execute_result"
    }
   ],
   "source": [
    "W0 = example_5_1[\"W0\"].values[0]\n",
    "gs = example_5_1[\"gs\"].values[0]\n",
    "(gs,abs(W0))"
   ]
  },
  {
   "cell_type": "markdown",
   "id": "d374a32b-bf34-42ac-bbc9-8f39cd34e749",
   "metadata": {},
   "source": [
    "## non-SUSY AdS solutions"
   ]
  },
  {
   "cell_type": "markdown",
   "id": "13824cbc-95c0-4feb-a49d-499787ab3a07",
   "metadata": {},
   "source": [
    "The data for the non-SUSY AdS solutions can be found here:"
   ]
  },
  {
   "cell_type": "code",
   "execution_count": 11,
   "id": "8920f865-355a-495c-842b-d62d07333f14",
   "metadata": {},
   "outputs": [],
   "source": [
    "filename = os.getcwd()+ f\"/../data/nonSUSY_AdS_examples/data.p\"\n",
    "\n",
    "df_AdS = load_zipped_pickle(filename)"
   ]
  },
  {
   "cell_type": "markdown",
   "id": "d2080fba-2f36-4381-a92b-59a9277b8d7f",
   "metadata": {},
   "source": [
    "As an illustration, we can e.g. display some of the properties here as follows:"
   ]
  },
  {
   "cell_type": "code",
   "execution_count": 12,
   "id": "ea879c2e-31c2-46c4-9b2f-896ea783a822",
   "metadata": {
    "tags": []
   },
   "outputs": [
    {
     "data": {
      "text/html": [
       "<div>\n",
       "<style scoped>\n",
       "    .dataframe tbody tr th:only-of-type {\n",
       "        vertical-align: middle;\n",
       "    }\n",
       "\n",
       "    .dataframe tbody tr th {\n",
       "        vertical-align: top;\n",
       "    }\n",
       "\n",
       "    .dataframe thead th {\n",
       "        text-align: right;\n",
       "    }\n",
       "</style>\n",
       "<table border=\"1\" class=\"dataframe\">\n",
       "  <thead>\n",
       "    <tr style=\"text-align: right;\">\n",
       "      <th></th>\n",
       "      <th>paper name</th>\n",
       "      <th>paper section</th>\n",
       "      <th>h11</th>\n",
       "      <th>h21</th>\n",
       "      <th>gs</th>\n",
       "      <th>W0</th>\n",
       "      <th>gsM</th>\n",
       "      <th>V AdS uplifted</th>\n",
       "    </tr>\n",
       "  </thead>\n",
       "  <tbody>\n",
       "    <tr>\n",
       "      <th>0</th>\n",
       "      <td>example i</td>\n",
       "      <td>C.3</td>\n",
       "      <td>155</td>\n",
       "      <td>7</td>\n",
       "      <td>0.146346</td>\n",
       "      <td>0.269965+0.092614j</td>\n",
       "      <td>2.048846</td>\n",
       "      <td>-1.668398e-13</td>\n",
       "    </tr>\n",
       "    <tr>\n",
       "      <th>1</th>\n",
       "      <td>example j</td>\n",
       "      <td>C.3</td>\n",
       "      <td>147</td>\n",
       "      <td>7</td>\n",
       "      <td>0.059205</td>\n",
       "      <td>-0.000793-0.000000j</td>\n",
       "      <td>0.828866</td>\n",
       "      <td>-1.215973e-20</td>\n",
       "    </tr>\n",
       "    <tr>\n",
       "      <th>2</th>\n",
       "      <td>example k</td>\n",
       "      <td>C.3</td>\n",
       "      <td>160</td>\n",
       "      <td>6</td>\n",
       "      <td>0.078693</td>\n",
       "      <td>0.059411-0.000000j</td>\n",
       "      <td>1.101709</td>\n",
       "      <td>-8.776909e-16</td>\n",
       "    </tr>\n",
       "  </tbody>\n",
       "</table>\n",
       "</div>"
      ],
      "text/plain": [
       "  paper name paper section  h11  h21        gs                  W0       gsM  \\\n",
       "0  example i           C.3  155    7  0.146346  0.269965+0.092614j  2.048846   \n",
       "1  example j           C.3  147    7  0.059205 -0.000793-0.000000j  0.828866   \n",
       "2  example k           C.3  160    6  0.078693  0.059411-0.000000j  1.101709   \n",
       "\n",
       "   V AdS uplifted  \n",
       "0   -1.668398e-13  \n",
       "1   -1.215973e-20  \n",
       "2   -8.776909e-16  "
      ]
     },
     "execution_count": 12,
     "metadata": {},
     "output_type": "execute_result"
    }
   ],
   "source": [
    "# Pick keys that we want to display below\n",
    "display_keys = ['paper name','paper section',\"h11\",\"h21\",\"gs\",\"W0\",\"gsM\",\"V AdS uplifted\"]\n",
    "\n",
    "# Show entries of the dataframe for these keys\n",
    "df_AdS[display_keys]"
   ]
  },
  {
   "cell_type": "markdown",
   "id": "d9d1113a-ec49-405e-8d4e-3956eaa21f11",
   "metadata": {},
   "source": [
    "As one easily confirms, these are precisely those values as stated in the indicated sections of the paper.\n",
    "\n",
    "For example, to access the data for a the AdS minimum with ID `j`, we can run"
   ]
  },
  {
   "cell_type": "code",
   "execution_count": 13,
   "id": "8d94bd5d-9b85-41b9-8bc8-34fa6ff8470c",
   "metadata": {
    "tags": []
   },
   "outputs": [
    {
     "data": {
      "text/html": [
       "<div>\n",
       "<style scoped>\n",
       "    .dataframe tbody tr th:only-of-type {\n",
       "        vertical-align: middle;\n",
       "    }\n",
       "\n",
       "    .dataframe tbody tr th {\n",
       "        vertical-align: top;\n",
       "    }\n",
       "\n",
       "    .dataframe thead th {\n",
       "        text-align: right;\n",
       "    }\n",
       "</style>\n",
       "<table border=\"1\" class=\"dataframe\">\n",
       "  <thead>\n",
       "    <tr style=\"text-align: right;\">\n",
       "      <th></th>\n",
       "      <th>paper name</th>\n",
       "      <th>paper section</th>\n",
       "      <th>h11</th>\n",
       "      <th>h21</th>\n",
       "      <th>gs</th>\n",
       "      <th>W0</th>\n",
       "      <th>gsM</th>\n",
       "      <th>V AdS uplifted</th>\n",
       "    </tr>\n",
       "  </thead>\n",
       "  <tbody>\n",
       "    <tr>\n",
       "      <th>1</th>\n",
       "      <td>example j</td>\n",
       "      <td>C.3</td>\n",
       "      <td>147</td>\n",
       "      <td>7</td>\n",
       "      <td>0.059205</td>\n",
       "      <td>-0.000793-0.000000j</td>\n",
       "      <td>0.828866</td>\n",
       "      <td>-1.215973e-20</td>\n",
       "    </tr>\n",
       "  </tbody>\n",
       "</table>\n",
       "</div>"
      ],
      "text/plain": [
       "  paper name paper section  h11  h21        gs                  W0       gsM  \\\n",
       "1  example j           C.3  147    7  0.059205 -0.000793-0.000000j  0.828866   \n",
       "\n",
       "   V AdS uplifted  \n",
       "1   -1.215973e-20  "
      ]
     },
     "execution_count": 13,
     "metadata": {},
     "output_type": "execute_result"
    }
   ],
   "source": [
    "example_j = df_AdS[df_AdS[\"paper name\"]==\"example j\"].copy()\n",
    "example_j[display_keys]"
   ]
  },
  {
   "cell_type": "markdown",
   "id": "0c76890c-3e35-4818-8505-7fc6140c2b1b",
   "metadata": {},
   "source": [
    "Then, we access the values within the dataframe `example_j` through the keys (just like in a standard python `dict`):"
   ]
  },
  {
   "cell_type": "code",
   "execution_count": 14,
   "id": "e5469384-e22b-457a-bcde-e19e76421a89",
   "metadata": {
    "tags": []
   },
   "outputs": [
    {
     "data": {
      "text/plain": [
       "(0.05920470889311013, 0.0007934183679530718)"
      ]
     },
     "execution_count": 14,
     "metadata": {},
     "output_type": "execute_result"
    }
   ],
   "source": [
    "W0 = example_j[\"W0\"].values[0]\n",
    "gs = example_j[\"gs\"].values[0]\n",
    "(gs,abs(W0))"
   ]
  },
  {
   "cell_type": "markdown",
   "id": "11d33bc9-c592-4079-b304-b92689f5f435",
   "metadata": {
    "tags": []
   },
   "source": [
    "## Summary of data and the corresponding key in the associated dataframe"
   ]
  },
  {
   "cell_type": "markdown",
   "id": "0e4205d5-697a-482b-a0b7-502001df3844",
   "metadata": {},
   "source": [
    "The dataframes in our files have the following keys:\n",
    "\n",
    "### Model identifiers\n",
    "\n",
    "* `h11`: Number of Kähler moduli where in our models $h^{1,1}=h^{1,1}_+$ since $h^{1,1}_-=0$.\n",
    "* `h12`: Number of complex structure moduli where in our models $h^{1,2}=h^{1,2}_-$ since $h^{1,2}_+=0$.\n",
    "* `polyID`: An ID assigned to the polytope.\n",
    "* `modelID`: An ID assigned to the CY.\n",
    "* `paper name`: Name used in the paper to refer to this a particular vacuum.\n",
    "* `paper section`: Section in the paper in which the corresponding vacuum is being discussed.\n",
    "* `name`: Alias for the dS vacua presented in the paper.\n",
    " \n",
    "### Mirror CY data\n",
    "\n",
    "* `dual points`: Points of the dual polytope.\n",
    "* `mirror heights`: Heights of the triangulations of dual polytope specifying the mirror CY $\\tilde{X}$.\n",
    "* `mirror GVs`: GV invariants of the mirror CY $\\tilde{X}$.\n",
    "* `conifold curve`: Charge of the conifold curve $\\mathcal{C}_{\\mathrm{cf}}$ giving rise to the conifold singularity in the limit $\\text{vol}(\\mathcal{C}_{\\mathrm{cf}})=0$.\n",
    "* `basis transformation`: Basis transformation matrix that transforms the curve charge saved in `conifold curve` to the basis $\\mathcal{C}_{\\mathrm{cf}}=(1,0,0,\\ldots,0)$.\n",
    "* `M vector`: M-vector specifying the PFV solution.\n",
    "* `K vector`: K-vector specifying the PFV solution.\n",
    "* `P vector`: p-vector specifying the PFV solution.\n",
    "\n",
    "### Supersymmetric minimum for the complex structure moduli and the axiodilaton\n",
    "\n",
    "* `SUSY W0`: Value of the flux superpotential at the SUSY minimum.\n",
    "* `SUSY gs`: Value of the string coupling at the SUSY minimum.\n",
    "* `SUSY gsM`: Value of $g_s M$ at the SUSY minimum.\n",
    "* `SUSY tau`: Value of the axiodilaton at the SUSY minimum.\n",
    "* `SUSY volTilde`: Value of the mirror CY volume at the SUSY minimum.\n",
    "* `SUSY zcf`: Value of the conifold modulus at the SUSY minimum.\n",
    "* `SUSY zvec`: Value of the complex structure moduli at the SUSY minimum.\n",
    "\n",
    "### Non-supersymmetric minimum for the complex structure moduli and the axiodilaton (includes backreaction from Kähler sector)\n",
    "\n",
    "* `gs`: Value of the string coupling at the minimum.\n",
    "* `W0`: Value of the flux superpotential at the minimum.\n",
    "* `gsM`: Value of $g_s M$.\n",
    "* `zcf`: Value of the conifold modulus at the minimum.\n",
    "* `zvec`: Value of the complex structure moduli at the minimum.\n",
    "* `tau`: Value of the axiodilaton at the minimum.\n",
    "* `volTilde`: Value of the mirror CY volume at the minimum.\n",
    "\n",
    "### CY orientifold data\n",
    "\n",
    "* `points`: Polytope points.\n",
    "* `divisor basis`: Basis of prime toric divisors.\n",
    "* `rigid divisors`: Indices of the rigid divisors.\n",
    "* `coni-deleted divisor`: Indices of the divisors that need to be deleted due to intersections with the conifold.\n",
    "* `phase dependent pure rigid divisors`: Phase dependent pure rigid divisors.\n",
    "* `dual coxeter numbers`: Dual coxeter numbers which are $1$ for ED3 instantons and $6$ for gaugino condensation from an $SO(8)$ stack on a divisor.\n",
    "* `Pfaffians`: Values of the Pfaffian numbers.\n",
    "* `bfield`: B-fields associated with the curves.\n",
    "* `O7s`: Indices of the prime toric divisors hosting O7-planes.\n",
    "* `O3s`: Location of O3-planes and their intersections. That is, the array is of the form `[i,j,k,kappa_ijk]` for an O3-plane located at $x_i=x_j=x_k=0$ and with intersection number $\\kappa_{ijk}\\neq 0$.\n",
    "\n",
    "### SUSY AdS vacuum or precursor\n",
    "\n",
    "* `heights AdS`: Heights of the triangulations for the SUSY AdS precursor **with** worldsheet instanton corrections.\n",
    "* `phi AdS`: Axion VEVs for the SUSY AdS precursor **with** worldsheet instanton corrections.\n",
    "* `kahler AdS`: Kähler parameters in **Einstein frame** for the SUSY AdS precursor **with** worldsheet instanton corrections.\n",
    "* `GVs AdS`: GV invariants of the CY ${X}$ for the SUSY AdS precursor **with** worldsheet instanton corrections.\n",
    "* `pure rigids AdS`: Pure rigid divisors in the phase of the SUSY AdS minimum.\n",
    "* `V AdS`: Vacuum energy at the AdS minimum.\n",
    "* `dV AdS over W02`: Value of the gradient of the scalar potential for the Kähler at the AdS minimum divided by $W_0^2$.\n",
    "* `corrected CY volume AdS`: Corrected CY volume at the SUSY AdS minimum.\n",
    "* `corrected divisor volumes AdS`: Corrected divisor volumes at the SUSY AdS minimum.\n",
    "* `csm mass spectrum in units of 1/lAdS`: Mass spectrum for the complex structure moduli in units of the AdS length $\\ell_{AdS}$ at the SUSY AdS minimum including worldsheet instanton corrections.\n",
    "* `km mass spectrum in units of 1/lAdS`: Mass spectrum for the Kähler moduli in units of the AdS length $\\ell_{AdS}$ at the SUSY AdS minimum including worldsheet instanton corrections.\n",
    "\n",
    "\n",
    "### dS vacuum \n",
    "\n",
    "**(CAVEAT: these keys only exists in the files for dS solutions)**\n",
    "\n",
    "* `heights dS`: Heights of the triangulations for the dS vacuum **with** worldsheet instanton corrections.\n",
    "* `kahler dS`: Kähler parameters in **Einstein frame** for the dS vacuum **with** worldsheet instanton corrections. \n",
    "* `phi dS`: Axion VEVs for the dS vacuum **with** worldsheet instanton corrections.\n",
    "* `GVs dS`: GV invariants of the CY ${X}$ for the dS vacuum **with** worldsheet instanton corrections. \n",
    "* `c uplift`: Coefficient arising in the uplifting potential from the anti-D3-brane.\n",
    "* `CSFterm`: Size of the complex structure F-terms.\n",
    "* `V dS`: Vacuum energy at the dS minimum.\n",
    "* `dV dS over W02`: Value of the gradient of the scalar potential for the Kähler at the dS minimum divided by $W_0^2$.\n",
    "* `corrected CY volume dS`: Corrected CY volume at the dS minimum.\n",
    "* `corrected divisor volumes dS`: Corrected divisor volumes at the dS minimum.\n",
    "* `csm mass spectrum in Hubble units`: Mass spectrum for the complex structure moduli and the axiodilaton in units of Hubble $H_{dS}$ at the dS minimum including worldsheet instanton corrections.\n",
    "* `km mass spectrum in Hubble units`: Mass spectrum for the Kähler moduli in units of Hubble $H_{dS}$ at the dS minimum including worldsheet instanton corrections.\n",
    "* `pure rigids dS`: Pure rigid divisors in the dS phase.\n",
    "* `minface autoch. divisor volumes dS`: Volumes of \n",
    "* `potent rays charges`: Charges of potent curve $\\mathcal{C}_{\\mathrm{pot}}$ generating a potent ray.\n",
    "* `potent rays gvs`: GV invariants for the potent ray for $n\\mathcal{C}_{\\mathrm{pot}}$, $1\\leq n\\leq 10$.\n",
    "* `lambda`: Minimal rescaling parameter at which point potent rays start diverging (as defined in eq. (A.8) in the paper).\n",
    "* `smallest potent curve volume`: Smallest volume of the potent curves $\\mathcal{C}_{\\mathrm{min}}$.\n",
    "* `N_C_min`: GV of the potent curves $\\mathcal{C}_{\\mathrm{min}}$.\n",
    "* `toric gvs`: Toric GVs in the dS phase.\n",
    "* `toric+1flop gvs`: Toric GVs in the dS phase as well as in neighboring phases that can be reached by at most **one flop**.\n",
    "* `toric+2flop gvs`: Toric GVs in the dS phase as well as in neighboring phases that can be reached by at most **two flops**.\n",
    "* `bulk gvs`: GVs computed via brute force methods in the bulk with a volume cutoff.\n",
    "* `codim gvs`: GVs found by random searching lower dimensional faces of the Mori cone.\n",
    "\n",
    "### uplifted non-SUSY AdS vacuum \n",
    "\n",
    "**(CAVEAT: these keys only exists in the files for non-SUSY AdS solutions)**\n",
    "\n",
    "* `c uplift`: Coefficient arising in the uplifting potential from the anti-D3-brane.\n",
    "* `CSFterm`: Size of the F-terms for the complex structure moduli used for the uplifting.\n",
    "* `heights AdS uplifted`: Heights of the triangulations for the dS vacuum **with** worldsheet instanton corrections.\n",
    "* `kahler AdS uplifted`: Kähler parameters in **Einstein frame** for the dS vacuum **with** worldsheet instanton corrections. \n",
    "* `phi AdS uplifted`: Axion VEVs for the dS vacuum **with** worldsheet instanton corrections.\n",
    "* `GVs AdS uplifted`: GV invariants of the CY ${X}$ for the dS vacuum **with** worldsheet instanton corrections. \n",
    "* `V AdS uplifted`: Vacuum energy at the non-SUSY AdS minimum.\n",
    "* `dV AdS uplifted over W02`: Value of the gradient of the scalar potential for the Kähler at the uplifted AdS minimum divided by $W_0^2$.\n",
    "* `corrected CY volume AdS uplifted`: Corrected CY volume at the non-SUSY AdS minimum.\n",
    "* `corrected divisor volumes AdS uplifted`: Corrected divisor volumes at the non-SUSY AdS minimum.\n",
    "* `minface autoch. divisor volumes AdS uplifted`:\n",
    "* `csm mass spectrum in Hubble units`: Mass spectrum for the complex structure moduli and the axiodilaton in units of the AdS length $\\ell_{AdS}$ at the non-SUSY AdS minimum including worldsheet instanton corrections.\n",
    "* `km mass spectrum in Hubble units`: Mass spectrum for the Kähler moduli in units of the AdS length $\\ell_{AdS}$ at the non-SUSY AdS minimum including worldsheet instanton corrections.\n",
    "* `pure rigids AdS uplifted`: Pure rigid divisors in the non-SUSY AdS phase."
   ]
  }
 ],
 "metadata": {
  "kernelspec": {
   "display_name": "Python 3 (ipykernel)",
   "language": "python",
   "name": "python3"
  },
  "language_info": {
   "codemirror_mode": {
    "name": "ipython",
    "version": 3
   },
   "file_extension": ".py",
   "mimetype": "text/x-python",
   "name": "python",
   "nbconvert_exporter": "python",
   "pygments_lexer": "ipython3",
   "version": "3.11.9"
  }
 },
 "nbformat": 4,
 "nbformat_minor": 5
}
