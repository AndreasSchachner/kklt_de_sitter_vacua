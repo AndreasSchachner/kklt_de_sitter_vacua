{
 "cells": [
  {
   "cell_type": "markdown",
   "id": "76c0b4ee-e92f-48d2-9e16-dcf0d716ba37",
   "metadata": {},
   "source": [
    "**What's in this notebook?** This notebook explains how to work with the data provided in the repository. It also validates the dS solution for example 1 from section 5.1 from the paper.\n",
    "\n",
    "(*Created:* Andreas Schachner, June 18, 2024)"
   ]
  },
  {
   "cell_type": "markdown",
   "id": "dadc393c-7eee-4741-acca-07a1828ef11c",
   "metadata": {
    "tags": []
   },
   "source": [
    "# Imports"
   ]
  },
  {
   "cell_type": "code",
   "execution_count": 1,
   "id": "058a31e2-3775-4612-b139-2f197568a67f",
   "metadata": {
    "tags": []
   },
   "outputs": [],
   "source": [
    "import os, gzip, pickle, sys\n",
    "import pandas as pd\n",
    "import numpy as np\n",
    "\n",
    "# CYTools imports\n",
    "from cytools import Polytope\n",
    "\n",
    "# Plotting tools\n",
    "import matplotlib.pyplot as plt\n",
    "\n",
    "try:\n",
    "    import seaborn as sn\n",
    "except:\n",
    "    import subprocess\n",
    "    import sys\n",
    "    subprocess.check_call([sys.executable, '-m', 'pip', 'install', 'seaborn'])\n",
    "    import seaborn as sn\n",
    "\n",
    "# Import custom libraries\n",
    "sys.path.append(\"../code/\")\n",
    "\n",
    "# Import loading function\n",
    "from utils import load_zipped_pickle\n",
    "\n",
    "# Import F-terms for the complex structure moduli and the axiodilaton\n",
    "from flux_vacua import fterms_flux\n",
    "\n",
    "# Import functions to compute corrected CY and divisor volumes\n",
    "from kahler_stabilisation import compute_corrected_cy_volume, compute_corrected_divisor_volumes\n",
    "\n",
    "# Import scalar potential for Kähler moduli and its gradient\n",
    "from kahler_stabilisation import potential_km, gradient_potential_km\n",
    "\n",
    "# Import function to compute non-perturbative superpotential for Kähler moduli from data\n",
    "from validation import get_nonpert_superpotential_AdS"
   ]
  },
  {
   "cell_type": "markdown",
   "id": "cfae4944-5e39-4449-8886-1e376c1b7f39",
   "metadata": {},
   "source": [
    "# Load data for de Sitter vacua"
   ]
  },
  {
   "cell_type": "markdown",
   "id": "3d907788-f68b-45a5-9297-75d052a9b013",
   "metadata": {},
   "source": [
    "We load the data as follows"
   ]
  },
  {
   "cell_type": "code",
   "execution_count": 2,
   "id": "d3dd258a-6aec-467b-9fa7-6c3924b653b0",
   "metadata": {
    "tags": []
   },
   "outputs": [],
   "source": [
    "filename = os.getcwd()+ f\"/../data/dS_examples/data.p\"\n",
    "\n",
    "df = load_zipped_pickle(filename)"
   ]
  },
  {
   "cell_type": "markdown",
   "id": "0919b15f-c491-4ce3-9805-9a0a0b90fa2d",
   "metadata": {},
   "source": [
    "As explained in the notebook [reading_data.ipynb](reading_data.ipynb), we can e.g. display some of the properties here as follows:"
   ]
  },
  {
   "cell_type": "code",
   "execution_count": 3,
   "id": "105cd77d-52db-481b-883c-1e5ba18e2bb0",
   "metadata": {
    "tags": []
   },
   "outputs": [
    {
     "data": {
      "text/html": [
       "<div>\n",
       "<style scoped>\n",
       "    .dataframe tbody tr th:only-of-type {\n",
       "        vertical-align: middle;\n",
       "    }\n",
       "\n",
       "    .dataframe tbody tr th {\n",
       "        vertical-align: top;\n",
       "    }\n",
       "\n",
       "    .dataframe thead th {\n",
       "        text-align: right;\n",
       "    }\n",
       "</style>\n",
       "<table border=\"1\" class=\"dataframe\">\n",
       "  <thead>\n",
       "    <tr style=\"text-align: right;\">\n",
       "      <th></th>\n",
       "      <th>paper name</th>\n",
       "      <th>paper section</th>\n",
       "      <th>h11</th>\n",
       "      <th>h21</th>\n",
       "      <th>polyID</th>\n",
       "      <th>modelID</th>\n",
       "      <th>gs</th>\n",
       "      <th>W0</th>\n",
       "      <th>gsM</th>\n",
       "      <th>V dS</th>\n",
       "    </tr>\n",
       "  </thead>\n",
       "  <tbody>\n",
       "    <tr>\n",
       "      <th>0</th>\n",
       "      <td>example 1</td>\n",
       "      <td>5.1</td>\n",
       "      <td>150</td>\n",
       "      <td>8</td>\n",
       "      <td>28</td>\n",
       "      <td>15</td>\n",
       "      <td>0.065695</td>\n",
       "      <td>0.011498+0.000000j</td>\n",
       "      <td>1.051115</td>\n",
       "      <td>1.937130e-19</td>\n",
       "    </tr>\n",
       "    <tr>\n",
       "      <th>1</th>\n",
       "      <td>example 2</td>\n",
       "      <td>5.2</td>\n",
       "      <td>150</td>\n",
       "      <td>8</td>\n",
       "      <td>28</td>\n",
       "      <td>10</td>\n",
       "      <td>0.057086</td>\n",
       "      <td>0.004902+0.000000j</td>\n",
       "      <td>0.913383</td>\n",
       "      <td>1.691952e-20</td>\n",
       "    </tr>\n",
       "    <tr>\n",
       "      <th>2</th>\n",
       "      <td>example 3</td>\n",
       "      <td>5.3</td>\n",
       "      <td>150</td>\n",
       "      <td>8</td>\n",
       "      <td>28</td>\n",
       "      <td>0</td>\n",
       "      <td>0.044226</td>\n",
       "      <td>-0.022230-0.000000j</td>\n",
       "      <td>0.796066</td>\n",
       "      <td>4.983236e-19</td>\n",
       "    </tr>\n",
       "    <tr>\n",
       "      <th>3</th>\n",
       "      <td>example 4</td>\n",
       "      <td>5.4</td>\n",
       "      <td>93</td>\n",
       "      <td>5</td>\n",
       "      <td>8</td>\n",
       "      <td>0</td>\n",
       "      <td>0.040376</td>\n",
       "      <td>0.053857-0.000000j</td>\n",
       "      <td>0.807523</td>\n",
       "      <td>2.340918e-15</td>\n",
       "    </tr>\n",
       "    <tr>\n",
       "      <th>4</th>\n",
       "      <td>example 5</td>\n",
       "      <td>5.5</td>\n",
       "      <td>93</td>\n",
       "      <td>5</td>\n",
       "      <td>9</td>\n",
       "      <td>0</td>\n",
       "      <td>0.046594</td>\n",
       "      <td>-0.030393-0.000000j</td>\n",
       "      <td>0.745512</td>\n",
       "      <td>2.112730e-15</td>\n",
       "    </tr>\n",
       "  </tbody>\n",
       "</table>\n",
       "</div>"
      ],
      "text/plain": [
       "  paper name paper section  h11  h21  polyID  modelID        gs  \\\n",
       "0  example 1           5.1  150    8      28       15  0.065695   \n",
       "1  example 2           5.2  150    8      28       10  0.057086   \n",
       "2  example 3           5.3  150    8      28        0  0.044226   \n",
       "3  example 4           5.4   93    5       8        0  0.040376   \n",
       "4  example 5           5.5   93    5       9        0  0.046594   \n",
       "\n",
       "                   W0       gsM          V dS  \n",
       "0  0.011498+0.000000j  1.051115  1.937130e-19  \n",
       "1  0.004902+0.000000j  0.913383  1.691952e-20  \n",
       "2 -0.022230-0.000000j  0.796066  4.983236e-19  \n",
       "3  0.053857-0.000000j  0.807523  2.340918e-15  \n",
       "4 -0.030393-0.000000j  0.745512  2.112730e-15  "
      ]
     },
     "execution_count": 3,
     "metadata": {},
     "output_type": "execute_result"
    }
   ],
   "source": [
    "# Pick keys that we want to display below\n",
    "display_keys = ['paper name','paper section',\"h11\",\"h21\",\"polyID\",\"modelID\",\"gs\",\"W0\",\"gsM\",\"V dS\"]\n",
    "\n",
    "# Show entries of the dataframe for these keys\n",
    "df[display_keys]"
   ]
  },
  {
   "cell_type": "markdown",
   "id": "cd6fbb4a-5da1-442d-bf56-79756be08462",
   "metadata": {},
   "source": [
    "As one easily confirms, these are precisely those values as stated in the indicated sections of the paper.\n",
    "\n",
    "For example, to access the data for a dS vacuum in a particular section of the paper, say section 5.1, we can do the following:"
   ]
  },
  {
   "cell_type": "code",
   "execution_count": 4,
   "id": "17bfe23d-0985-4ae0-822c-206d78701426",
   "metadata": {
    "tags": []
   },
   "outputs": [
    {
     "data": {
      "text/html": [
       "<div>\n",
       "<style scoped>\n",
       "    .dataframe tbody tr th:only-of-type {\n",
       "        vertical-align: middle;\n",
       "    }\n",
       "\n",
       "    .dataframe tbody tr th {\n",
       "        vertical-align: top;\n",
       "    }\n",
       "\n",
       "    .dataframe thead th {\n",
       "        text-align: right;\n",
       "    }\n",
       "</style>\n",
       "<table border=\"1\" class=\"dataframe\">\n",
       "  <thead>\n",
       "    <tr style=\"text-align: right;\">\n",
       "      <th></th>\n",
       "      <th>paper name</th>\n",
       "      <th>paper section</th>\n",
       "      <th>h11</th>\n",
       "      <th>h21</th>\n",
       "      <th>polyID</th>\n",
       "      <th>modelID</th>\n",
       "      <th>gs</th>\n",
       "      <th>W0</th>\n",
       "      <th>gsM</th>\n",
       "      <th>V dS</th>\n",
       "    </tr>\n",
       "  </thead>\n",
       "  <tbody>\n",
       "    <tr>\n",
       "      <th>0</th>\n",
       "      <td>example 1</td>\n",
       "      <td>5.1</td>\n",
       "      <td>150</td>\n",
       "      <td>8</td>\n",
       "      <td>28</td>\n",
       "      <td>15</td>\n",
       "      <td>0.065695</td>\n",
       "      <td>0.011498+0.000000j</td>\n",
       "      <td>1.051115</td>\n",
       "      <td>1.937130e-19</td>\n",
       "    </tr>\n",
       "  </tbody>\n",
       "</table>\n",
       "</div>"
      ],
      "text/plain": [
       "  paper name paper section  h11  h21  polyID  modelID        gs  \\\n",
       "0  example 1           5.1  150    8      28       15  0.065695   \n",
       "\n",
       "                   W0       gsM          V dS  \n",
       "0  0.011498+0.000000j  1.051115  1.937130e-19  "
      ]
     },
     "execution_count": 4,
     "metadata": {},
     "output_type": "execute_result"
    }
   ],
   "source": [
    "example_5_1 = df[df[\"paper section\"]==\"5.1\"].copy()\n",
    "example_5_1[display_keys]"
   ]
  },
  {
   "cell_type": "markdown",
   "id": "c0944dde-49bc-49db-b2e4-6a5bfd599f63",
   "metadata": {},
   "source": [
    "This line finds the entry in the key `paper section` that equals `5.1`. Alternatively, we can also grab the data by `paper name`"
   ]
  },
  {
   "cell_type": "code",
   "execution_count": 5,
   "id": "933e61f3-0e9c-452a-b8ae-beabba2a62b2",
   "metadata": {
    "tags": []
   },
   "outputs": [
    {
     "data": {
      "text/html": [
       "<div>\n",
       "<style scoped>\n",
       "    .dataframe tbody tr th:only-of-type {\n",
       "        vertical-align: middle;\n",
       "    }\n",
       "\n",
       "    .dataframe tbody tr th {\n",
       "        vertical-align: top;\n",
       "    }\n",
       "\n",
       "    .dataframe thead th {\n",
       "        text-align: right;\n",
       "    }\n",
       "</style>\n",
       "<table border=\"1\" class=\"dataframe\">\n",
       "  <thead>\n",
       "    <tr style=\"text-align: right;\">\n",
       "      <th></th>\n",
       "      <th>paper name</th>\n",
       "      <th>paper section</th>\n",
       "      <th>h11</th>\n",
       "      <th>h21</th>\n",
       "      <th>polyID</th>\n",
       "      <th>modelID</th>\n",
       "      <th>gs</th>\n",
       "      <th>W0</th>\n",
       "      <th>gsM</th>\n",
       "      <th>V dS</th>\n",
       "    </tr>\n",
       "  </thead>\n",
       "  <tbody>\n",
       "    <tr>\n",
       "      <th>0</th>\n",
       "      <td>example 1</td>\n",
       "      <td>5.1</td>\n",
       "      <td>150</td>\n",
       "      <td>8</td>\n",
       "      <td>28</td>\n",
       "      <td>15</td>\n",
       "      <td>0.065695</td>\n",
       "      <td>0.011498+0.000000j</td>\n",
       "      <td>1.051115</td>\n",
       "      <td>1.937130e-19</td>\n",
       "    </tr>\n",
       "  </tbody>\n",
       "</table>\n",
       "</div>"
      ],
      "text/plain": [
       "  paper name paper section  h11  h21  polyID  modelID        gs  \\\n",
       "0  example 1           5.1  150    8      28       15  0.065695   \n",
       "\n",
       "                   W0       gsM          V dS  \n",
       "0  0.011498+0.000000j  1.051115  1.937130e-19  "
      ]
     },
     "execution_count": 5,
     "metadata": {},
     "output_type": "execute_result"
    }
   ],
   "source": [
    "example_5_1 = df[df[\"paper name\"]==\"example 1\"].copy()\n",
    "example_5_1[display_keys]"
   ]
  },
  {
   "cell_type": "markdown",
   "id": "7d2953f6-ff7d-4388-9c07-f82f807d7b53",
   "metadata": {},
   "source": [
    "Then, we access the values within the dataframe `example_5_1` through the keys (just like in a standard python `dict`):"
   ]
  },
  {
   "cell_type": "code",
   "execution_count": 6,
   "id": "f3bf3faf-0c7c-46a4-be3a-1f79f2fcfc16",
   "metadata": {
    "tags": []
   },
   "outputs": [
    {
     "data": {
      "text/plain": [
       "(0.06569470261013641, 0.011498101152307332)"
      ]
     },
     "execution_count": 6,
     "metadata": {},
     "output_type": "execute_result"
    }
   ],
   "source": [
    "W0 = example_5_1[\"W0\"].values[0]\n",
    "gs = example_5_1[\"gs\"].values[0]\n",
    "(gs,abs(W0))"
   ]
  },
  {
   "cell_type": "markdown",
   "id": "a026cfae-b768-4de6-9383-3ad6c13b9d10",
   "metadata": {},
   "source": [
    "# Example 1: $(h^{1,1},h^{2,1})=(150,8)$"
   ]
  },
  {
   "cell_type": "markdown",
   "id": "78980351-5d5b-4b55-9966-cd5ebff94052",
   "metadata": {},
   "source": [
    "Now, let us actually run through example 1 from section 5.1 in the paper. Let us grab it once again:"
   ]
  },
  {
   "cell_type": "code",
   "execution_count": 7,
   "id": "433ef7cb-1d1e-4ea4-8303-3beccb93961d",
   "metadata": {
    "tags": []
   },
   "outputs": [
    {
     "data": {
      "text/plain": [
       "paper name                                          example 1\n",
       "paper section                                             5.1\n",
       "h11                                                       150\n",
       "h21                                                         8\n",
       "polyID                                                     28\n",
       "modelID                                                    15\n",
       "gs                                                   0.065695\n",
       "W0               (0.011498101152307332+4.48016945306821e-21j)\n",
       "gsM                                                  1.051115\n",
       "V dS                                                      0.0\n",
       "Name: 0, dtype: object"
      ]
     },
     "execution_count": 7,
     "metadata": {},
     "output_type": "execute_result"
    }
   ],
   "source": [
    "example_5_1 = df[df[\"paper name\"]==\"example 1\"].iloc[0]\n",
    "example_5_1[display_keys]"
   ]
  },
  {
   "cell_type": "markdown",
   "id": "642f9888-0667-49c9-845e-26ed0eb271f9",
   "metadata": {},
   "source": [
    "## The flux vacuum on the mirror dual sidedisplay_keys"
   ]
  },
  {
   "cell_type": "markdown",
   "id": "7e96eafa-4657-4dea-9080-c9309827c012",
   "metadata": {},
   "source": [
    "First let us grab the dual polytope"
   ]
  },
  {
   "cell_type": "code",
   "execution_count": 8,
   "id": "9d3de421-dede-4aa3-b034-8daa13d6e448",
   "metadata": {
    "tags": []
   },
   "outputs": [
    {
     "data": {
      "text/plain": [
       "A 4-dimensional reflexive lattice polytope in ZZ^4"
      ]
     },
     "execution_count": 8,
     "metadata": {},
     "output_type": "execute_result"
    }
   ],
   "source": [
    "# Grab dual polytope points\n",
    "dual_points = np.array(example_5_1[\"dual points\"])\n",
    "\n",
    "# Construct dual Polytope\n",
    "dual_p = Polytope(dual_points)\n",
    "dual_p"
   ]
  },
  {
   "cell_type": "markdown",
   "id": "d1416f53-4484-4661-9429-7ea46d447975",
   "metadata": {},
   "source": [
    "From this polytope, we obtained the mirror CY threefold $\\widetilde{X}$ by constructing first an FRST through the `mirror heights` given in our data and then constructing the associated CY via basic CYTools functionalities:"
   ]
  },
  {
   "cell_type": "code",
   "execution_count": 9,
   "id": "8a1c41d4-920a-4f11-8133-f59904753912",
   "metadata": {
    "tags": []
   },
   "outputs": [
    {
     "data": {
      "text/plain": [
       "A Calabi-Yau 3-fold hypersurface with h11=8 and h21=150 in a 4-dimensional toric variety"
      ]
     },
     "execution_count": 9,
     "metadata": {},
     "output_type": "execute_result"
    }
   ],
   "source": [
    "# Grab heights from dataframe\n",
    "mirror_heights = np.array(example_5_1[\"mirror heights\"])\n",
    "\n",
    "# Construct mirror CY from heights\n",
    "dual_cy = dual_p.triangulate(heights = mirror_heights).get_cy()\n",
    "h21 = dual_cy.h11()\n",
    "h11 = dual_cy.h21()\n",
    "dual_cy"
   ]
  },
  {
   "cell_type": "markdown",
   "id": "3a5dab1b-775d-4810-b3f5-f083073a50c4",
   "metadata": {},
   "source": [
    "As we see, the mirror CY threefold $\\widetilde{X}$ has Hodge numbers $h^{1,1}(\\widetilde{X})=8$ and $h^{2,1}(\\widetilde{X})=150$.\n",
    "\n",
    "Per definition, the mirror CY $\\widetilde{X}$ should contain a curve that, upon shrinking to zero size, leads to two conifold singularities. This conifold curve is specified in our data as follows:"
   ]
  },
  {
   "cell_type": "code",
   "execution_count": 10,
   "id": "8f257697-6df4-4c86-8f26-576526ce51be",
   "metadata": {
    "tags": []
   },
   "outputs": [
    {
     "data": {
      "text/plain": [
       "array([ 0,  0,  0,  0,  0, -1,  0,  0])"
      ]
     },
     "execution_count": 10,
     "metadata": {},
     "output_type": "execute_result"
    }
   ],
   "source": [
    "coni_curve0 = np.array(example_5_1[\"conifold curve\"]).astype(int)\n",
    "\n",
    "coni_curve0"
   ]
  },
  {
   "cell_type": "markdown",
   "id": "069c0c7d-a1f5-4d40-a662-7938c7d20f9b",
   "metadata": {},
   "source": [
    "To switch to the conifold basis in which the conifold curve has charges $\\mathcal{C}_{\\mathrm{cf}}=(1,0,0,\\ldots,0)$, we load the \n",
    "basis transformation matrix by calling the `basis transformation` entry in our dataframe"
   ]
  },
  {
   "cell_type": "code",
   "execution_count": 11,
   "id": "b41a49d7-ba57-4531-866a-8be2fe18b404",
   "metadata": {},
   "outputs": [
    {
     "data": {
      "text/plain": [
       "array([1, 0, 0, 0, 0, 0, 0, 0])"
      ]
     },
     "execution_count": 11,
     "metadata": {},
     "output_type": "execute_result"
    }
   ],
   "source": [
    "basis_change = np.array(example_5_1[\"basis transformation\"]).astype(int)\n",
    "coni_curve = basis_change@coni_curve0\n",
    "\n",
    "coni_curve"
   ]
  },
  {
   "cell_type": "markdown",
   "id": "da83c9bb-5e5b-4f01-bb05-53aee6e556fb",
   "metadata": {},
   "source": [
    "We see that in the transformed basis, we have indeed $\\mathcal{C}_{\\mathrm{cf}}=(1,0,0,\\ldots,0)$ as expected.\n",
    "\n",
    "Next, let us load some important quantities that we need for the subsequent computations like the triple intersection numbers"
   ]
  },
  {
   "cell_type": "code",
   "execution_count": 12,
   "id": "2b240102-6d78-4827-9b2d-da535511c1de",
   "metadata": {
    "tags": []
   },
   "outputs": [],
   "source": [
    "# Define triple intersection numbers for mirror CY\n",
    "dual_intnums = dual_cy.intersection_numbers(in_basis=True,format='dense')\n",
    "\n",
    "# Define second Chern class for mirror CY\n",
    "dual_c2 = dual_cy.second_chern_class(in_basis=True)"
   ]
  },
  {
   "cell_type": "markdown",
   "id": "dad3acf3-7222-4bb9-af54-ef4c3484a5ce",
   "metadata": {},
   "source": [
    "Again, we have to remember to transform these objects into the appropriate basis"
   ]
  },
  {
   "cell_type": "code",
   "execution_count": 13,
   "id": "6e53a2dd-a1ab-4d1e-bbc8-46bca3228959",
   "metadata": {},
   "outputs": [],
   "source": [
    "# Change triple intersection numbers to conifold basis\n",
    "dual_intnums=np.einsum('ai,ibc->abc', basis_change, np.einsum('bj,ijc->ibc', basis_change,np.einsum('ck,ijk->ijc', basis_change, dual_intnums)))\n",
    "\n",
    "# Change c2 to conifold basis\n",
    "dual_c2=np.matmul(basis_change,dual_c2)"
   ]
  },
  {
   "cell_type": "markdown",
   "id": "e51efb52-be4b-4640-9376-5c10ae282f95",
   "metadata": {},
   "source": [
    "The location of the minimum in complex structure moduli space and for the axiodilaton is obtained as follows (again remembering to transform everything to the right basis)"
   ]
  },
  {
   "cell_type": "code",
   "execution_count": 14,
   "id": "b2327471-d3ed-4abb-9118-e9bbc68b0fb1",
   "metadata": {
    "tags": []
   },
   "outputs": [],
   "source": [
    "# grab tau\n",
    "tau = example_5_1[\"SUSY tau\"]\n",
    "\n",
    "# grab complex structure moduli\n",
    "zvec = np.array(example_5_1[\"SUSY zvec\"])\n",
    "\n",
    "# transform complex structure moduli to basis\n",
    "zvec_in_coni_basis = zvec@np.linalg.inv(basis_change)"
   ]
  },
  {
   "cell_type": "markdown",
   "id": "a9836f16-04c1-46a5-be5c-eeaf86b8c3c3",
   "metadata": {},
   "source": [
    "Per definition, in this bases the value of the conifold modulus can be found at index `0` of the array `zvec_in_coni_basis` and we make sure that it agrees with the value saved in our data file above:"
   ]
  },
  {
   "cell_type": "code",
   "execution_count": 15,
   "id": "631dfff3-4422-4c6e-b063-e3adf1c97c13",
   "metadata": {
    "tags": []
   },
   "outputs": [
    {
     "name": "stdout",
     "output_type": "stream",
     "text": [
      "Check that computed zcf agrees with the saved value:  True\n"
     ]
    }
   ],
   "source": [
    "zcf = np.abs(zvec_in_coni_basis[0])\n",
    "\n",
    "print(\"Check that computed zcf agrees with the saved value: \", np.abs(example_5_1[\"SUSY zcf\"]-zcf)<1e-5)"
   ]
  },
  {
   "cell_type": "markdown",
   "id": "817678e9-a381-44bd-b0fd-a94143ca6e2a",
   "metadata": {},
   "source": [
    "As we see, the two values for $z_{cf}$ are equal. We specify a flux choice as in eq. (3.3) by defining $\\vec{M},\\vec{K},\\vec{p}$"
   ]
  },
  {
   "cell_type": "code",
   "execution_count": 16,
   "id": "22146b58-be3c-443a-aee9-86d101cb1557",
   "metadata": {
    "tags": []
   },
   "outputs": [
    {
     "data": {
      "text/plain": [
       "(array([ 16,  10, -26,   8,  32,  30,  18,  28]),\n",
       " array([-6, -1,  0,  1, -3,  2,  0, -1]),\n",
       " array([ 0., -8.,  0., -2.,  4.,  5.,  5.,  4.]))"
      ]
     },
     "execution_count": 16,
     "metadata": {},
     "output_type": "execute_result"
    }
   ],
   "source": [
    "Mvec = np.array(example_5_1[\"M vector\"])\n",
    "Kvec = np.array(example_5_1[\"K vector\"])\n",
    "pvec = np.array(example_5_1[\"P vector\"])\n",
    "\n",
    "Mvec,Kvec,pvec*40"
   ]
  },
  {
   "cell_type": "markdown",
   "id": "5bab8488-12bd-429d-bb71-2c3fe6eccf8d",
   "metadata": {},
   "source": [
    "This corresponds to the three vectors defined in equations (5.3)-(5.5) in the draft.\n",
    "\n",
    "To verify the existence of a stable minimum for the complex structure moduli, we load the GVs computed for the mirror CY threefold:"
   ]
  },
  {
   "cell_type": "code",
   "execution_count": 17,
   "id": "8fc14d05-56e8-4e6b-88bf-a1785f6f2d70",
   "metadata": {
    "tags": []
   },
   "outputs": [
    {
     "data": {
      "text/plain": [
       "(107, 9)"
      ]
     },
     "execution_count": 17,
     "metadata": {},
     "output_type": "execute_result"
    }
   ],
   "source": [
    "## Grab GVs\n",
    "GVs = np.array(example_5_1[\"mirror GVs\"])\n",
    "\n",
    "## Split GVs into invariants and curve charges\n",
    "GV_charges = GVs[:,:-1]\n",
    "GV_invariants = GVs[:,-1]\n",
    "\n",
    "GVs.shape"
   ]
  },
  {
   "cell_type": "markdown",
   "id": "e177b490-2c4d-4db1-a460-38ec1ff75783",
   "metadata": {},
   "source": [
    "This means that we take $107$ curves with non-trivial GV invariants in our computation into account. Note that these curves have been computed by using a suitable grading vector as defined by the P-vector above.\n",
    "\n",
    "Again, for our susequent computations, we want to transform these GVs into the appropriate basis as follows:"
   ]
  },
  {
   "cell_type": "code",
   "execution_count": 18,
   "id": "bc7653f9-759e-4ac0-997b-ed23006e08d6",
   "metadata": {},
   "outputs": [],
   "source": [
    "# Change the basis of curve charges to the conifold basis\n",
    "GV_charges_basis = np.matmul(basis_change,GV_charges.T)\n",
    "\n",
    "## Transform curve charges in the right basis\n",
    "GV_basis = np.append(GV_charges_basis,[GV_invariants],axis=0).T"
   ]
  },
  {
   "cell_type": "markdown",
   "id": "cb57978a-7498-4a97-94e6-4bc26675d0dc",
   "metadata": {},
   "source": [
    "Recall that by definition, the conifold curve is itself a nilpotent (of order one) curve with GV 2. So it should appear in the above array of "
   ]
  },
  {
   "cell_type": "code",
   "execution_count": 19,
   "id": "753ba5a5-13cd-4138-992f-dca0e7b62568",
   "metadata": {},
   "outputs": [
    {
     "data": {
      "text/plain": [
       "True"
      ]
     },
     "execution_count": 19,
     "metadata": {},
     "output_type": "execute_result"
    }
   ],
   "source": [
    "## Find the index of the conifold curve (which by definition is a nilpotent curve with GV=n_cf)\n",
    "coni_index = np.where(np.all(GV_basis[:,:-1] == coni_curve,axis=1))[0][0]\n",
    "\n",
    "## Grab the GV invariant associated with the conifold curve... this sets the number of conifolds\n",
    "coni_GV = GV_basis[coni_index][-1]\n",
    "\n",
    "## Expect two conifolds\n",
    "coni_GV==2"
   ]
  },
  {
   "cell_type": "markdown",
   "id": "f7deaad7-8644-4e7c-91e7-a0d4b9b538dd",
   "metadata": {},
   "source": [
    "As expected, we find that the conifold curve has GV invariant $2$.\n",
    "\n",
    "We can finally test all the conditions for a perturbatively flat vacuum (PFV) as layed out in section 3.2 of the draft:"
   ]
  },
  {
   "cell_type": "code",
   "execution_count": 20,
   "id": "795b970b-e1d3-468a-a510-7068987894a8",
   "metadata": {
    "tags": []
   },
   "outputs": [
    {
     "name": "stdout",
     "output_type": "stream",
     "text": [
      "Tests at the PFV level...\n",
      "\n",
      "PFV condition 1 satisfied (flat direction: N.p=K (eq. (3.15))):  True\n",
      "PFV condition 2 satisfied (first quantization condition: b.M is integer (eq. (3.17))):  True\n",
      "PFV condition 3 satisfied (second quantization condition (eq. (3.16)):  True\n",
      "PFV condition 4 satisfied (Kahler cone condition (eq. (3.14)):  True\n"
     ]
    }
   ],
   "source": [
    "# Define N-matrix (above eq. (3.13))\n",
    "Nmatrix = dual_intnums@Mvec\n",
    "\n",
    "# Define A-matrix (eq. (2.53))\n",
    "amatrix = np.mod(np.array([[dual_intnums[a][b][b] if a<=b else dual_intnums[b][a][a] for b in range(h21)] for a in range(h21)]),2)/2\n",
    "\n",
    "# Define c2' (eq. (3.5))\n",
    "dual_c2_prime = dual_c2+coni_curve*coni_GV\n",
    "\n",
    "# Define M-dual scalar (eq. (3.17))\n",
    "Mdualscalar = Mvec@dual_c2_prime/24\n",
    "\n",
    "# Define M-dual vector (eq. (3.16))\n",
    "Mdualvec = np.rint(amatrix@Mvec).astype(int)\n",
    "\n",
    "\n",
    "print(\"Tests at the PFV level...\")\n",
    "\n",
    "print(\"\")\n",
    "\n",
    "print(\"PFV condition 1 satisfied (flat direction: N.p=K (eq. (3.15))): \", sum(abs(Nmatrix@pvec-Kvec)[1:])<1e-10)\n",
    "\n",
    "print(\"PFV condition 2 satisfied (first quantization condition: b.M is integer (eq. (3.17))): \",np.mod(Mdualscalar,1)==0)\n",
    "\n",
    "print(\"PFV condition 3 satisfied (second quantization condition (eq. (3.16)): \",sum(abs((amatrix@Mvec)-Mdualvec))==0)\n",
    "\n",
    "print(\"PFV condition 4 satisfied (Kahler cone condition (eq. (3.14)): \",np.all(np.where(GV_basis[:,:-1]@pvec<=0)[0] == np.array([coni_index])))"
   ]
  },
  {
   "cell_type": "markdown",
   "id": "132c98ff-dc43-4551-b788-3d96a79484bb",
   "metadata": {},
   "source": [
    "Next we can test the $F$-term conditions for the complex structure moduli and the axiodilaton using the function `fterms_flux` from [flux_vacua.py](./../code/flux_vacua.py):"
   ]
  },
  {
   "cell_type": "code",
   "execution_count": 21,
   "id": "960669cd-0ff6-4c04-9672-5ef3241d7477",
   "metadata": {
    "tags": []
   },
   "outputs": [
    {
     "name": "stdout",
     "output_type": "stream",
     "text": [
      "Test the F-term conditions...\n",
      "\n",
      "F-terms:  [1.83078031e-06 6.65236726e-06 4.08669385e-06 1.43791322e-07\n",
      " 3.01808086e-07 8.14286019e-07 1.97365698e-07 3.86129333e-09\n",
      " 8.02833362e-09]\n",
      "\n",
      "Compare computed values with saved values...\n",
      "\n",
      "Value of the flux superpotential W0 agrees with expected value from file:  True\n",
      "Value of the string coupling gs agrees with expected value from file:  True\n"
     ]
    }
   ],
   "source": [
    "print(\"Test the F-term conditions...\")\n",
    "print(\"\")\n",
    "\n",
    "# Compute non-perturbative superpotential\n",
    "Wnp = get_nonpert_superpotential_AdS(example_5_1)\n",
    "\n",
    "# Compute F-terms for the complex structure moduli, and return also dw, dk, w\n",
    "fterms,dw,dk,w = fterms_flux(zvec_in_coni_basis,tau,Mvec,Kvec,pvec,dual_intnums,amatrix,GV_basis,h11,h21,wconst=Wnp)\n",
    "\n",
    "print(\"F-terms: \",np.abs(fterms))\n",
    "print(\"\")\n",
    "\n",
    "print(\"Compare computed values with saved values...\")\n",
    "print(\"\")\n",
    "\n",
    "gs = 1/np.imag(tau)\n",
    "\n",
    "print(\"Value of the flux superpotential W0 agrees with expected value from file: \", np.abs(example_5_1[\"SUSY W0\"]-w)<1e-5)\n",
    "print(\"Value of the string coupling gs agrees with expected value from file: \", np.abs(example_5_1[\"SUSY gs\"]-gs)<1e-5)"
   ]
  },
  {
   "cell_type": "markdown",
   "id": "9defccf3-8da7-4806-9452-15ec81f1d493",
   "metadata": {},
   "source": [
    "We deduce that we indeed obtained a supersymmetric minimum for the complex structure moduli and the axiodilaton."
   ]
  },
  {
   "cell_type": "markdown",
   "id": "e96780f8-f75b-4e2e-81e4-41a74bc77eb2",
   "metadata": {},
   "source": [
    "## The AdS precursor"
   ]
  },
  {
   "cell_type": "markdown",
   "id": "e7c8ffcb-b888-4697-ae3e-02df16920f1d",
   "metadata": {},
   "source": [
    "### Constructing and working with the CY geometry"
   ]
  },
  {
   "cell_type": "markdown",
   "id": "ca95d73f-7864-4970-a246-270aa9296208",
   "metadata": {},
   "source": [
    "Let us now construct the CY geometry in which one of our SUSY AdS precursor lives. First, we define the polytope `p` (which is the polar dual of the polytope `dual_p` defined above):"
   ]
  },
  {
   "cell_type": "code",
   "execution_count": 22,
   "id": "7fb1b4fa-bdfb-4b8d-843b-f0febd958a43",
   "metadata": {
    "tags": []
   },
   "outputs": [
    {
     "data": {
      "text/plain": [
       "True"
      ]
     },
     "execution_count": 22,
     "metadata": {},
     "output_type": "execute_result"
    }
   ],
   "source": [
    "# Construct polytope\n",
    "p = Polytope(example_5_1[\"points\"])\n",
    "\n",
    "# Check that its dual is equal to dual_p from above\n",
    "p.dual()==dual_p"
   ]
  },
  {
   "cell_type": "markdown",
   "id": "75a2d16d-d744-4f9a-ad1b-5da0f97b021b",
   "metadata": {},
   "source": [
    "Then we can obtain the FRST hosting the AdS minimum by using the `heights AdS` entry in our dataframe"
   ]
  },
  {
   "cell_type": "code",
   "execution_count": 23,
   "id": "176fa2ea-fd54-4d15-b641-0db61e48faa8",
   "metadata": {
    "tags": []
   },
   "outputs": [
    {
     "data": {
      "text/plain": [
       "A fine, regular, star triangulation of a 4-dimensional point configuration with 155 points in ZZ^4"
      ]
     },
     "execution_count": 23,
     "metadata": {},
     "output_type": "execute_result"
    }
   ],
   "source": [
    "# Grab triangulation\n",
    "t = p.triangulate(heights = np.array(example_5_1[\"heights AdS\"]))\n",
    "t"
   ]
  },
  {
   "cell_type": "markdown",
   "id": "98708ddc-4071-49f5-906f-2448fe45d57a",
   "metadata": {},
   "source": [
    "The above FRST defines a CY threefold which is simply computed here:"
   ]
  },
  {
   "cell_type": "code",
   "execution_count": 24,
   "id": "f00a8788-16e4-4408-95b9-89db07216c80",
   "metadata": {
    "tags": []
   },
   "outputs": [
    {
     "data": {
      "text/plain": [
       "A Calabi-Yau 3-fold hypersurface with h11=150 and h21=8 in a 4-dimensional toric variety"
      ]
     },
     "execution_count": 24,
     "metadata": {},
     "output_type": "execute_result"
    }
   ],
   "source": [
    "cy = t.get_cy()\n",
    "cy"
   ]
  },
  {
   "cell_type": "markdown",
   "id": "e273efa6-693f-4811-a3db-b1e36db1868e",
   "metadata": {},
   "source": [
    "Now, we are ready to compute all sorts of things. For example, we can compute the *uncorrected* CY volume and the volumes of all prime toric divisors and curves in the toric Mori cone as follows. We specify a point in Kähler moduli space, namely the location of the AdS minimum `kahler AdS`, and compute the corresponding volumes by using basic CYTools built-in functions:"
   ]
  },
  {
   "cell_type": "code",
   "execution_count": 25,
   "id": "c25fde61-a1c1-4a9c-8c80-34e236d3366b",
   "metadata": {
    "tags": []
   },
   "outputs": [],
   "source": [
    "kahler = np.array(example_5_1[\"kahler AdS\"])\n",
    "cy_volume_uncorrected = cy.compute_cy_volume(kahler)\n",
    "div_volumes = cy.compute_divisor_volumes(kahler)\n",
    "curve_volumes = cy.compute_curve_volumes(kahler)"
   ]
  },
  {
   "cell_type": "markdown",
   "id": "b1043020-c6cb-4b71-9189-94dcc60e5c5a",
   "metadata": {},
   "source": [
    "Let us make plots for these really quickly:"
   ]
  },
  {
   "cell_type": "code",
   "execution_count": 26,
   "id": "2c3f3e1d-4765-4fd2-af86-2dde14f5a2cb",
   "metadata": {
    "tags": []
   },
   "outputs": [
    {
     "data": {
      "image/png": "[encoded data removed]",
      "text/plain": [
       "<Figure size 1800x1050 with 2 Axes>"
      ]
     },
     "metadata": {},
     "output_type": "display_data"
    }
   ],
   "source": [
    "fig,axs = plt.subplots(1,2,dpi=300,figsize=(6,3.5))\n",
    "\n",
    "\n",
    "minx = min(curve_volumes)/2\n",
    "maxx = max(curve_volumes)*2\n",
    "use_log = True\n",
    "maxy = 200\n",
    "\n",
    "\n",
    "fs_legend=8\n",
    "fs_xlabel = 8\n",
    "fs_suptitle=12\n",
    "fs_title=10\n",
    "\n",
    "\n",
    "sn.histplot(x=curve_volumes,log_scale=True,ax=axs[0])\n",
    "\n",
    "axs[0].set_title(\"Volume of toric curves\",fontsize = fs_title-2)\n",
    "axs[0].set_xlabel(\"Curve volumes\",fontsize = fs_xlabel)\n",
    "axs[0].set_ylabel(\"Count\",fontsize = fs_xlabel)\n",
    "axs[0].tick_params(axis='both', which='major', labelsize=fs_xlabel)\n",
    "axs[0].tick_params(axis='both', which='minor', labelsize=fs_xlabel)\n",
    "\n",
    "if use_log:\n",
    "    axs[0].set_yscale(\"log\")\n",
    "    axs[0].set_ylim(0.1,maxy)\n",
    "else:\n",
    "    axs[0].set_ylim(0,maxy)\n",
    "\n",
    "minx = min(div_volumes)/2\n",
    "maxx = max(div_volumes)*2\n",
    "\n",
    "sn.histplot(x=div_volumes,log_scale=True,ax=axs[1])\n",
    "\n",
    "axs[1].set_title(\"Uncorrected volumes of prime toric divisors\",fontsize = fs_title-2)\n",
    "axs[1].set_xlabel(\"Divisor volumes\",fontsize = fs_xlabel)\n",
    "axs[1].set_ylabel(\"Count\",fontsize = fs_xlabel)\n",
    "axs[1].tick_params(axis='both', which='major', labelsize=fs_xlabel)\n",
    "axs[1].tick_params(axis='both', which='minor', labelsize=fs_xlabel)\n",
    "\n",
    "if use_log:\n",
    "    axs[1].set_yscale(\"log\")\n",
    "    axs[1].set_ylim(0.1,maxy)\n",
    "else:\n",
    "    axs[1].set_ylim(0,maxy)\n",
    "\n",
    "plt.suptitle(f\"Einstein frame volumes in the AdS minimum\",fontsize = fs_suptitle)\n",
    "\n",
    "plt.tight_layout()\n",
    "\n",
    "plt.show()"
   ]
  },
  {
   "cell_type": "markdown",
   "id": "12084cb7-e1c9-4c12-8680-c62d56a8cead",
   "metadata": {},
   "source": [
    "### Constructing the leading order EFT"
   ]
  },
  {
   "cell_type": "markdown",
   "id": "50f0a44c-a13f-4b18-9d6b-b68c547fdceb",
   "metadata": {},
   "source": [
    "Let us next set up the computation in the leading order EFT. To begin with, we can look at the O-planes:"
   ]
  },
  {
   "cell_type": "code",
   "execution_count": 27,
   "id": "52b04177-c563-4755-97e0-3b5330293e3f",
   "metadata": {
    "tags": []
   },
   "outputs": [
    {
     "name": "stdout",
     "output_type": "stream",
     "text": [
      "O7-planes:  [1, 3, 4, 5, 6, 7, 8, 9, 11, 14, 17, 18, 20, 24, 25, 30, 32, 37, 38, 40, 46, 62, 68, 78, 80, 90, 92, 106, 108, 112, 120, 122, 134, 136, 147, 12]\n",
      "O3-planes: [[1, 44, 139, 1], [49, 145, 151, 1], [117, 131, 139, 1], [14, 56, 59, 1]] ...\n"
     ]
    }
   ],
   "source": [
    "O7s = example_5_1[\"O7s\"]\n",
    "O3s = example_5_1[\"O3s\"]\n",
    "print(\"O7-planes: \", O7s)\n",
    "print(f\"O3-planes: {O3s[:4]} ...\")"
   ]
  },
  {
   "cell_type": "markdown",
   "id": "8ecd4167-9953-4207-92c0-8f561e661f56",
   "metadata": {},
   "source": [
    "This means e.g. that we have O7-planes on $x_1=0$ as well as a single O3-plane on $x_1=x_{44}=x_{139}=0$.\n",
    "\n",
    "Then let us grab the information about the SUSY AdS minimum. Recall that the values of $g_s$ and $W_0$ that we verified above are"
   ]
  },
  {
   "cell_type": "code",
   "execution_count": 28,
   "id": "3aea4735-a7ab-4bbe-9547-7d59fb5841b3",
   "metadata": {
    "tags": []
   },
   "outputs": [
    {
     "name": "stdout",
     "output_type": "stream",
     "text": [
      "gs = 0.07321255142562691\n",
      "W0 = 0.010311191830195512\n"
     ]
    }
   ],
   "source": [
    "# Grab values for W0 and gs for the SUSY minimum\n",
    "gs = example_5_1[\"SUSY gs\"]\n",
    "W0 = example_5_1[\"SUSY W0\"]\n",
    "W0 = np.abs(W0)\n",
    "print(f\"gs = {gs}\")\n",
    "print(f\"W0 = {W0}\")"
   ]
  },
  {
   "cell_type": "markdown",
   "id": "f4a0387a-d849-477b-97c9-79e68a674eb4",
   "metadata": {},
   "source": [
    "Then we need the point $\\mathbf{t}_{\\mathrm{AdS}}$ of the AdS minimum in Kähler moduli space together with the corresponding values for the $C_4$ axions:"
   ]
  },
  {
   "cell_type": "code",
   "execution_count": 29,
   "id": "cd57da0c-448d-4e87-be8a-343daeae9925",
   "metadata": {
    "tags": []
   },
   "outputs": [
    {
     "data": {
      "text/plain": [
       "((150,), (150,))"
      ]
     },
     "execution_count": 29,
     "metadata": {},
     "output_type": "execute_result"
    }
   ],
   "source": [
    "kahler = np.array(example_5_1[\"kahler AdS\"])\n",
    "phi = np.array(example_5_1[\"phi AdS\"])\n",
    "kahler.shape, phi.shape"
   ]
  },
  {
   "cell_type": "markdown",
   "id": "96086ace-3fda-408c-87ac-147323617d13",
   "metadata": {},
   "source": [
    "Both correspond to $h^{1,1}$-dimensional vectors in form of an `numpy.ndarray`.\n",
    "\n",
    "To verify our solutions, we also have to collect GV invariants plus the associated curves"
   ]
  },
  {
   "cell_type": "code",
   "execution_count": 30,
   "id": "2771adbc-9eb1-4f8b-9779-4fcf18996f92",
   "metadata": {
    "tags": []
   },
   "outputs": [
    {
     "data": {
      "text/plain": [
       "(810, 151)"
      ]
     },
     "execution_count": 30,
     "metadata": {},
     "output_type": "execute_result"
    }
   ],
   "source": [
    "GVs = np.array(example_5_1[\"GVs AdS\"])\n",
    "GVs.shape"
   ]
  },
  {
   "cell_type": "markdown",
   "id": "25ed567c-faad-487d-aa39-2efef3335ed3",
   "metadata": {},
   "source": [
    "We find that there are in total 810 curves being considered for our computation. We can compute their string frame volumes as follows:"
   ]
  },
  {
   "cell_type": "code",
   "execution_count": 31,
   "id": "6092162e-af5d-40c9-8c7d-4932d8cbe93f",
   "metadata": {
    "tags": []
   },
   "outputs": [
    {
     "data": {
      "text/plain": [
       "array([0.00175676, 0.00276206, 0.00859153, 0.01348705, 0.0154283 ])"
      ]
     },
     "execution_count": 31,
     "metadata": {},
     "output_type": "execute_result"
    }
   ],
   "source": [
    "curve_charges = GVs[:,:-1]\n",
    "kahler_st = kahler*np.sqrt(gs)\n",
    "curve_volumes = curve_charges@kahler_st\n",
    "np.sort(curve_volumes)[:5]"
   ]
  },
  {
   "cell_type": "markdown",
   "id": "5b5f496e-950f-4bfa-a233-0365794f24a3",
   "metadata": {},
   "source": [
    "We can make yet another plot to illustrate the distribution for the curve volumes:"
   ]
  },
  {
   "cell_type": "code",
   "execution_count": 32,
   "id": "d77224d0-0e0b-4caa-a248-24dba13677f5",
   "metadata": {},
   "outputs": [
    {
     "data": {
      "image/png": "[encoded data removed]",
      "text/plain": [
       "<Figure size 1000x600 with 1 Axes>"
      ]
     },
     "metadata": {},
     "output_type": "display_data"
    }
   ],
   "source": [
    "fig = plt.figure(dpi=200,figsize=(5,3))\n",
    "sn.histplot(curve_volumes,log_scale=True)\n",
    "plt.title(\"String frame curve volumes at the AdS minimum\",fontsize=10)\n",
    "plt.show()"
   ]
  },
  {
   "cell_type": "markdown",
   "id": "05723a19-6db7-4437-a003-46050d47282e",
   "metadata": {},
   "source": [
    "Lastly, to compute the scalar potential, we have to define the relevant quantities entering e.g. the non-perturbative superpotential:"
   ]
  },
  {
   "cell_type": "code",
   "execution_count": 33,
   "id": "2571165b-22c2-404f-aefe-302f2ac223d8",
   "metadata": {},
   "outputs": [],
   "source": [
    "rigid_list = np.array(example_5_1[\"rigid divisors\"])\n",
    "dual_cox = np.array(example_5_1[\"dual coxeter numbers\"])\n",
    "Pfaffians = np.array(example_5_1[\"Pfaffians\"])\n",
    "bfield = np.array(example_5_1[\"bfield\"])"
   ]
  },
  {
   "cell_type": "markdown",
   "id": "8f8fe256-bec9-4116-a5d8-d68e7a31f7be",
   "metadata": {},
   "source": [
    "As discussed in our paper, we only take the contributions from pure rigid prime toric divisors into account. In our model, we find that all rigid prime toric divisors are actually pure:"
   ]
  },
  {
   "cell_type": "code",
   "execution_count": 34,
   "id": "4d1ad780-763d-479a-b99b-a13b300fdcd1",
   "metadata": {
    "tags": []
   },
   "outputs": [
    {
     "data": {
      "text/plain": [
       "True"
      ]
     },
     "execution_count": 34,
     "metadata": {},
     "output_type": "execute_result"
    }
   ],
   "source": [
    "example_5_1[\"pure rigids AdS\"]==example_5_1[\"rigid divisors\"]"
   ]
  },
  {
   "cell_type": "markdown",
   "id": "343d4bbe-5a73-4ab8-a5e5-88f910e1d75b",
   "metadata": {},
   "source": [
    "Since all rigids are actually pure rigid in the phase of the AdS minimum, we can compute the scalar potential and its gradient by using the full list of rigid divisors."
   ]
  },
  {
   "cell_type": "code",
   "execution_count": 35,
   "id": "951f3b40-8e7a-499b-967d-1fe1ab4d1d97",
   "metadata": {
    "tags": []
   },
   "outputs": [
    {
     "name": "stdout",
     "output_type": "stream",
     "text": [
      "Maximum of the absolute values of the gradient of V at the minimum:  5.18157683907993e-25\n",
      "Maximum ratio |dV/V|:  1.1444906029076204e-06\n",
      "\n",
      "Value of V at the minimum:  -4.527408810448896e-19\n",
      "Value expected:  -4.527408810448888e-19\n",
      "AdS vacuum energy matches expected value:  True\n"
     ]
    }
   ],
   "source": [
    "# Compute gradient and value of the potential\n",
    "V = potential_km(cy,kahler,phi,rigid_list,dual_cox,W0,gs,Pfaffians,GV=GVs,bfield=bfield,vtilde=example_5_1[\"SUSY volTilde\"])\n",
    "dV = gradient_potential_km(cy,kahler,phi,rigid_list,dual_cox,W0,gs,Pfaffians,return_potential=False,GV=GVs,bfield=bfield,vtilde=example_5_1[\"SUSY volTilde\"])\n",
    "\n",
    "print(\"Maximum of the absolute values of the gradient of V at the minimum: \",np.max(np.abs(dV)))\n",
    "print(\"Maximum ratio |dV/V|: \",np.max(np.abs(dV)/np.abs(V)))\n",
    "\n",
    "print(\"\")\n",
    "\n",
    "print(\"Value of V at the minimum: \",V)\n",
    "print(\"Value expected: \",example_5_1[\"V AdS\"])\n",
    "print(\"AdS vacuum energy matches expected value: \", np.abs(V-example_5_1[\"V AdS\"])<1e-5)"
   ]
  },
  {
   "cell_type": "markdown",
   "id": "fe4bc42e-d6eb-47c1-b898-33b6f1f53f26",
   "metadata": {},
   "source": [
    "Note that, since the value of the potential is computed also in the gradient function `gradient_potential_km`, we can use the optional `return_potential` to return also the value of the scalar potential at the minimum by just calling `gradient_potential_km`:"
   ]
  },
  {
   "cell_type": "code",
   "execution_count": 36,
   "id": "4592b56e-a1af-488c-8f23-e229863db4e8",
   "metadata": {
    "tags": []
   },
   "outputs": [
    {
     "name": "stdout",
     "output_type": "stream",
     "text": [
      "Maximum |dV|:  5.18157683907993e-25\n",
      "Maximum ratio |dV/V|:  1.1444906029076214e-06\n",
      "\n",
      "Value of V at the minimum:  -4.527408810448892e-19\n",
      "Value expected:  -4.527408810448888e-19\n",
      "AdS vacuum energy matches expected value:  True\n"
     ]
    }
   ],
   "source": [
    "# Compute the gradient of the scalar potential and the value of the scalar potential itself in one go...\n",
    "dV,V = gradient_potential_km(cy,kahler,phi,rigid_list,dual_cox,W0,gs,Pfaffians,return_potential=True,GV=GVs,bfield=bfield,vtilde=example_5_1[\"SUSY volTilde\"])\n",
    "\n",
    "print(\"Maximum |dV|: \",np.max(np.abs(dV)))\n",
    "print(\"Maximum ratio |dV/V|: \",np.max(np.abs(dV)/np.abs(V)))\n",
    "\n",
    "print(\"\")\n",
    "\n",
    "print(\"Value of V at the minimum: \",V)\n",
    "print(\"Value expected: \",example_5_1[\"V AdS\"])\n",
    "print(\"AdS vacuum energy matches expected value: \", np.abs(V-example_5_1[\"V AdS\"])<1e-5)"
   ]
  },
  {
   "cell_type": "markdown",
   "id": "ce3d4cb4-7950-4c6e-8bee-496467e2dd32",
   "metadata": {
    "tags": []
   },
   "source": [
    "Next, we can compute the corrected CY volume and divisor volumes as defined in Eq. (2.71) and (2.73) respectively.\n",
    "To this end, we implemented two functions `compute_corrected_divisor_volumes` and `compute_corrected_cy_volume` in [kahler_stabilisation.py](./../kahler_stabilisation.py):"
   ]
  },
  {
   "cell_type": "code",
   "execution_count": 37,
   "id": "362d4614-784b-42cd-b3b9-de79ec44ca2a",
   "metadata": {
    "tags": []
   },
   "outputs": [
    {
     "name": "stdout",
     "output_type": "stream",
     "text": [
      "Comparing volumes at the minimum...\n",
      "\n",
      "Corrected divisor volumes match expected value:  True\n",
      "Corrected CY volume matches expected value True\n"
     ]
    }
   ],
   "source": [
    "print(\"Comparing volumes at the minimum...\")\n",
    "\n",
    "print(\"\")\n",
    "\n",
    "corrected_divisor_volumes = compute_corrected_divisor_volumes(cy,kahler,gs,bfield=bfield,GV=GVs)\n",
    "\n",
    "print(\"Corrected divisor volumes match expected value: \", np.abs(np.max(corrected_divisor_volumes-np.array(example_5_1[\"corrected divisor volumes AdS\"])))<1e-5)\n",
    "\n",
    "CY_volume_str_frame = compute_corrected_cy_volume(cy,kahler,gs,bfield=bfield,GV=GVs)\n",
    "\n",
    "print(\"Corrected CY volume matches expected value\", np.abs(np.max(example_5_1[\"corrected CY volume AdS\"]*gs**(3/2)-CY_volume_str_frame))<1e-5)"
   ]
  },
  {
   "cell_type": "markdown",
   "id": "daeb7822-c369-4510-a57d-cb5363bc8193",
   "metadata": {},
   "source": [
    "There is one caveat however: above we were not particularly careful about how we handeled the prime toric divisor intersecting the conifold. Indeed, we can check that in the above computation, its contribution to the superpotential was turned on, i.e., it had a non-vanishing Pfaffian:"
   ]
  },
  {
   "cell_type": "code",
   "execution_count": 38,
   "id": "ff2d252e-785f-4453-93bb-cd3f5450c9df",
   "metadata": {
    "tags": []
   },
   "outputs": [
    {
     "data": {
      "text/plain": [
       "0.020210652027623288"
      ]
     },
     "execution_count": 38,
     "metadata": {},
     "output_type": "execute_result"
    }
   ],
   "source": [
    "Pfaffians = np.array(example_5_1[\"Pfaffians\"])\n",
    "Pfaffians[example_5_1[\"coni-deleted divisor\"]-1]"
   ]
  },
  {
   "cell_type": "markdown",
   "id": "2ccca17e-f4de-4b3c-93ae-cb44cbfdb437",
   "metadata": {},
   "source": [
    "This should of course not be the case. Let us turn off the conifold divisor by setting the corresponding value of the Pfaffian to zero:"
   ]
  },
  {
   "cell_type": "code",
   "execution_count": 39,
   "id": "dfde0bd1-9058-4e62-b213-909989e08789",
   "metadata": {},
   "outputs": [
    {
     "data": {
      "text/plain": [
       "0.0"
      ]
     },
     "execution_count": 39,
     "metadata": {},
     "output_type": "execute_result"
    }
   ],
   "source": [
    "Pfaffians[example_5_1[\"coni-deleted divisor\"]-1] = 0.\n",
    "Pfaffians[example_5_1[\"coni-deleted divisor\"]-1]"
   ]
  },
  {
   "cell_type": "markdown",
   "id": "82d65d8b-b624-45e0-afb7-0b935071e080",
   "metadata": {},
   "source": [
    "Running through the same steps as before, we find"
   ]
  },
  {
   "cell_type": "code",
   "execution_count": 40,
   "id": "1bedd375-f5eb-4ca0-b859-00650ba3bae0",
   "metadata": {
    "tags": []
   },
   "outputs": [
    {
     "name": "stdout",
     "output_type": "stream",
     "text": [
      "Maximum |dV|:  5.18157683907993e-25\n",
      "Maximum ratio |dV/V|:  1.1444906029076214e-06\n",
      "\n",
      "Computed vacuum energy:  -4.527408810448892e-19\n",
      "Value expected:  -4.527408810448888e-19\n",
      "dS vacuum energy matches expected value:  True\n",
      "\n",
      "Comparing volumes at the minimum...\n",
      "\n",
      "Corrected divisor volumes match expected value:  True\n",
      "Corrected CY volume matches expected value:  True\n"
     ]
    }
   ],
   "source": [
    "dV,V = gradient_potential_km(cy,kahler,phi,rigid_list,dual_cox,W0,gs,Pfaffians,return_potential=True,GV=GVs,bfield=bfield,vtilde=example_5_1[\"SUSY volTilde\"])\n",
    "\n",
    "print(\"Maximum |dV|: \",np.max(np.abs(dV)))\n",
    "print(\"Maximum ratio |dV/V|: \",np.max(np.abs(dV)/np.abs(V)))\n",
    "\n",
    "print(\"\")\n",
    "\n",
    "print(\"Computed vacuum energy: \",V)\n",
    "print(\"Value expected: \",example_5_1[\"V AdS\"])\n",
    "print(\"dS vacuum energy matches expected value: \", np.abs(V-example_5_1[\"V AdS\"])<1e-5)\n",
    "\n",
    "print(\"\")\n",
    "\n",
    "print(\"Comparing volumes at the minimum...\")\n",
    "\n",
    "print(\"\")\n",
    "\n",
    "corrected_divisor_volumes = compute_corrected_divisor_volumes(cy,kahler,gs,bfield=bfield,GV=GVs)\n",
    "\n",
    "print(\"Corrected divisor volumes match expected value: \", np.abs(np.max(corrected_divisor_volumes-np.array(example_5_1[\"corrected divisor volumes AdS\"])))<1e-5)\n",
    "\n",
    "CY_volume_str_frame = compute_corrected_cy_volume(cy,kahler,gs,bfield=bfield,GV=GVs)\n",
    "\n",
    "print(\"Corrected CY volume matches expected value: \", np.abs(np.max(example_5_1[\"corrected CY volume AdS\"]*gs**(3/2)-CY_volume_str_frame))<1e-5)"
   ]
  },
  {
   "cell_type": "markdown",
   "id": "93a0a0b1-90f9-4e75-ad7e-2a3d3a123c4e",
   "metadata": {},
   "source": [
    "Virtually nothing changes because our minima are such that the relevant divisor has a large volume implying that its contribution is essentially absent:"
   ]
  },
  {
   "cell_type": "code",
   "execution_count": 41,
   "id": "ea8829e5-edf4-425d-b7ae-68359ce26b5e",
   "metadata": {
    "tags": []
   },
   "outputs": [
    {
     "data": {
      "text/plain": [
       "94.55674390944112"
      ]
     },
     "execution_count": 41,
     "metadata": {},
     "output_type": "execute_result"
    }
   ],
   "source": [
    "coni_divisor_volume = corrected_divisor_volumes[example_5_1[\"coni-deleted divisor\"]-1]\n",
    "coni_divisor_volume"
   ]
  },
  {
   "cell_type": "markdown",
   "id": "31af0bcd-ca5b-4a5e-8fef-9c67c9d0deb6",
   "metadata": {},
   "source": [
    "Indeed, we can see that this is by almost a factor of 10 larger than the next largest volume in the list of corrected divisor volumes computed above"
   ]
  },
  {
   "cell_type": "code",
   "execution_count": 42,
   "id": "44daef44-3ed1-4928-ae18-687b5ba5b990",
   "metadata": {
    "tags": []
   },
   "outputs": [
    {
     "data": {
      "text/plain": [
       "array([94.55674391, 10.30653998,  9.85168591,  8.5926827 ,  8.51670413])"
      ]
     },
     "execution_count": 42,
     "metadata": {},
     "output_type": "execute_result"
    }
   ],
   "source": [
    "np.sort(corrected_divisor_volumes[corrected_divisor_volumes<=coni_divisor_volume+0.1])[::-1][:5]"
   ]
  },
  {
   "cell_type": "markdown",
   "id": "12abca17-26aa-45e0-839f-1b1c2b0b702d",
   "metadata": {},
   "source": [
    "Hence, the contributions from the conifold intersecting divisor are so small compared to the other rigid divisors that it virtually makes no difference for these solutions whether or not we include it in the computation. However, it is of course **necessary** to remove the divisor from the list of contributing divisors to the superpotential by setting the Pfaffian to zero."
   ]
  },
  {
   "cell_type": "markdown",
   "id": "fec3d60e-f0df-4c74-b0a1-0ecaa7d96da5",
   "metadata": {},
   "source": [
    "## The dS minimum"
   ]
  },
  {
   "cell_type": "markdown",
   "id": "0ac3dccf-091b-44b0-8caf-de4960a153ae",
   "metadata": {},
   "source": [
    "### Constructing and working with the CY geometry"
   ]
  },
  {
   "cell_type": "markdown",
   "id": "ee37c652-895a-4b66-bfea-4da79ad4191e",
   "metadata": {},
   "source": [
    "Let us now construct the CY geometry in which the dS minimum lives. Using the polytope `p` from above, we can obtain the FRST hosting the dS minimum by using the `heights dS` entry in our dataframe"
   ]
  },
  {
   "cell_type": "code",
   "execution_count": 43,
   "id": "694fd71e-2268-4577-8603-7e5c89594c4b",
   "metadata": {
    "tags": []
   },
   "outputs": [
    {
     "data": {
      "text/plain": [
       "A fine, regular, star triangulation of a 4-dimensional point configuration with 155 points in ZZ^4"
      ]
     },
     "execution_count": 43,
     "metadata": {},
     "output_type": "execute_result"
    }
   ],
   "source": [
    "# Grab triangulation\n",
    "t_uplift = p.triangulate(heights = np.array(example_5_1[\"heights dS\"]))\n",
    "t_uplift"
   ]
  },
  {
   "cell_type": "markdown",
   "id": "a2e775eb-62fa-4d53-9a27-c29993890172",
   "metadata": {},
   "source": [
    "The above FRST defines a CY threefold which is simply computed here:"
   ]
  },
  {
   "cell_type": "code",
   "execution_count": 44,
   "id": "4e150d51-4465-4dda-a08e-5bb12debfa3b",
   "metadata": {
    "tags": []
   },
   "outputs": [
    {
     "data": {
      "text/plain": [
       "A Calabi-Yau 3-fold hypersurface with h11=150 and h21=8 in a 4-dimensional toric variety"
      ]
     },
     "execution_count": 44,
     "metadata": {},
     "output_type": "execute_result"
    }
   ],
   "source": [
    "cy_uplift = t_uplift.get_cy()\n",
    "cy_uplift"
   ]
  },
  {
   "cell_type": "markdown",
   "id": "9d02941c-1a00-4ba0-8f42-bafd7cb56d3e",
   "metadata": {},
   "source": [
    "Again, we can compute the *uncorrected* CY volume and the volumes of all prime toric divisors and curves in the toric Mori cone as follows. We specify a point in Kähler moduli space, namely the location of the dS minimum `kahler dS`, and compute the corresponding volumes by using basic CYTools built-in functions:"
   ]
  },
  {
   "cell_type": "code",
   "execution_count": 45,
   "id": "a52236f0-31c9-47a2-af18-975ffe68e149",
   "metadata": {
    "tags": []
   },
   "outputs": [],
   "source": [
    "kahler_uplift = np.array(example_5_1[\"kahler dS\"])\n",
    "cy_volume_uncorrected = cy.compute_cy_volume(kahler_uplift)\n",
    "div_volumes = cy.compute_divisor_volumes(kahler_uplift)\n",
    "curve_volumes = cy.compute_curve_volumes(kahler_uplift)"
   ]
  },
  {
   "cell_type": "markdown",
   "id": "4fe3bc9e-0689-4aae-86ea-1734dcfe80a0",
   "metadata": {},
   "source": [
    "Let us make plots for these really quickly:"
   ]
  },
  {
   "cell_type": "code",
   "execution_count": 46,
   "id": "3caa2738-dcd1-439f-ac9b-9ae0f5d2f4ed",
   "metadata": {
    "tags": []
   },
   "outputs": [
    {
     "data": {
      "image/png": "[encoded data removed]",
      "text/plain": [
       "<Figure size 1800x1050 with 2 Axes>"
      ]
     },
     "metadata": {},
     "output_type": "display_data"
    }
   ],
   "source": [
    "fig,axs = plt.subplots(1,2,dpi=300,figsize=(6,3.5))\n",
    "\n",
    "\n",
    "minx = min(curve_volumes)/2\n",
    "maxx = max(curve_volumes)*2\n",
    "use_log = True\n",
    "maxy = 200\n",
    "\n",
    "\n",
    "fs_legend=8\n",
    "fs_xlabel = 8\n",
    "fs_suptitle=12\n",
    "fs_title=10\n",
    "\n",
    "\n",
    "sn.histplot(x=curve_volumes,log_scale=True,ax=axs[0])\n",
    "\n",
    "axs[0].set_title(\"Volume of toric curves\",fontsize = fs_title-2)\n",
    "axs[0].set_xlabel(\"Curve volumes\",fontsize = fs_xlabel)\n",
    "axs[0].set_ylabel(\"Count\",fontsize = fs_xlabel)\n",
    "axs[0].tick_params(axis='both', which='major', labelsize=fs_xlabel)\n",
    "axs[0].tick_params(axis='both', which='minor', labelsize=fs_xlabel)\n",
    "\n",
    "if use_log:\n",
    "    axs[0].set_yscale(\"log\")\n",
    "    axs[0].set_ylim(0.1,maxy)\n",
    "else:\n",
    "    axs[0].set_ylim(0,maxy)\n",
    "\n",
    "minx = min(div_volumes)/2\n",
    "maxx = max(div_volumes)*2\n",
    "\n",
    "sn.histplot(x=div_volumes,log_scale=True,ax=axs[1])\n",
    "\n",
    "axs[1].set_title(\"Uncorrected volumes of prime toric divisors\",fontsize = fs_title-2)\n",
    "axs[1].set_xlabel(\"Divisor volumes\",fontsize = fs_xlabel)\n",
    "axs[1].set_ylabel(\"Count\",fontsize = fs_xlabel)\n",
    "axs[1].tick_params(axis='both', which='major', labelsize=fs_xlabel)\n",
    "axs[1].tick_params(axis='both', which='minor', labelsize=fs_xlabel)\n",
    "\n",
    "if use_log:\n",
    "    axs[1].set_yscale(\"log\")\n",
    "    axs[1].set_ylim(0.1,maxy)\n",
    "else:\n",
    "    axs[1].set_ylim(0,maxy)\n",
    "\n",
    "plt.suptitle(f\"Einstein frame volumes in the dS minimum\",fontsize = fs_suptitle)\n",
    "\n",
    "plt.tight_layout()\n",
    "\n",
    "plt.show()"
   ]
  },
  {
   "cell_type": "markdown",
   "id": "277b71ac-abbe-47ad-b201-a572b40915fc",
   "metadata": {},
   "source": [
    "### Constructing the leading order EFT"
   ]
  },
  {
   "cell_type": "markdown",
   "id": "f5f21b3e-2166-4c8b-96bc-878077aae567",
   "metadata": {},
   "source": [
    "Let us next set up the computation in the leading order EFT. As above, we define the values of $g_s$ and $W_0$ as follows"
   ]
  },
  {
   "cell_type": "code",
   "execution_count": 47,
   "id": "c10341cf-ec78-4329-9933-bfb9023ede7d",
   "metadata": {
    "tags": []
   },
   "outputs": [
    {
     "name": "stdout",
     "output_type": "stream",
     "text": [
      "gs = 0.06569470261013641\n",
      "W0 = 0.011498101152307332\n"
     ]
    }
   ],
   "source": [
    "# Grab values for W0 and gs \n",
    "gs = example_5_1[\"gs\"]\n",
    "W0 = example_5_1[\"W0\"]\n",
    "W0 = np.abs(W0)\n",
    "print(f\"gs = {gs}\")\n",
    "print(f\"W0 = {W0}\")"
   ]
  },
  {
   "cell_type": "markdown",
   "id": "ee989342-09fd-4cb5-8db5-b8a6472cac9c",
   "metadata": {},
   "source": [
    "Then we need the point $\\mathbf{t}_{\\mathrm{dS}}$ of the \n",
    "dS minimum in Kähler moduli space together with the corresponding values for the $C_4$ axions:"
   ]
  },
  {
   "cell_type": "code",
   "execution_count": 48,
   "id": "a4d48c3c-cbe8-4c17-a408-07d51b247e31",
   "metadata": {
    "tags": []
   },
   "outputs": [
    {
     "data": {
      "text/plain": [
       "((150,), (150,))"
      ]
     },
     "execution_count": 48,
     "metadata": {},
     "output_type": "execute_result"
    }
   ],
   "source": [
    "kahler_uplift = np.array(example_5_1[\"kahler dS\"])\n",
    "phi_uplift = np.array(example_5_1[\"phi dS\"])\n",
    "kahler_uplift.shape, phi_uplift.shape"
   ]
  },
  {
   "cell_type": "markdown",
   "id": "3884df36-de42-45bc-851d-a085f732b55f",
   "metadata": {},
   "source": [
    "Both correspond to $h^{1,1}$-dimensional vectors in form of an `numpy.ndarray`.\n",
    "\n",
    "To verify our solutions, we also have to collect GV invariants plus the associated curves"
   ]
  },
  {
   "cell_type": "code",
   "execution_count": 49,
   "id": "3c27ad88-c15d-4709-88d4-fdbdca5258fc",
   "metadata": {
    "tags": []
   },
   "outputs": [
    {
     "data": {
      "text/plain": [
       "(833, 151)"
      ]
     },
     "execution_count": 49,
     "metadata": {},
     "output_type": "execute_result"
    }
   ],
   "source": [
    "GVs_uplift = np.array(example_5_1[\"GVs dS\"])\n",
    "GVs_uplift.shape"
   ]
  },
  {
   "cell_type": "markdown",
   "id": "e7e3b22d-29d4-42b6-a0c4-2238a5b2355b",
   "metadata": {},
   "source": [
    "We find that there are in total 833 curves being considered for our computation. We can compute their string frame volumes as follows:"
   ]
  },
  {
   "cell_type": "code",
   "execution_count": 50,
   "id": "cc2d5299-8ccb-4505-b360-6ac196c5fddc",
   "metadata": {
    "tags": []
   },
   "outputs": [
    {
     "data": {
      "text/plain": [
       "array([0.00062469, 0.00326584, 0.00362106, 0.0052592 , 0.0113234 ])"
      ]
     },
     "execution_count": 50,
     "metadata": {},
     "output_type": "execute_result"
    }
   ],
   "source": [
    "curve_charges = GVs_uplift[:,:-1]\n",
    "kahler_st = kahler_uplift*np.sqrt(gs)\n",
    "curve_volumes = curve_charges@kahler_st\n",
    "np.sort(curve_volumes)[:5]"
   ]
  },
  {
   "cell_type": "markdown",
   "id": "ee1a3b1e-f0d8-4367-a991-3f1fa81459dc",
   "metadata": {},
   "source": [
    "We can make yet another plot to illustrate the distribution for the curve volumes:"
   ]
  },
  {
   "cell_type": "code",
   "execution_count": 51,
   "id": "28567540-da19-4cca-8244-f98ad6b8c48b",
   "metadata": {},
   "outputs": [
    {
     "data": {
      "image/png": "[encoded data removed]",
      "text/plain": [
       "<Figure size 1000x600 with 1 Axes>"
      ]
     },
     "metadata": {},
     "output_type": "display_data"
    }
   ],
   "source": [
    "fig = plt.figure(dpi=200,figsize=(5,3))\n",
    "sn.histplot(curve_volumes,log_scale=True)\n",
    "plt.title(\"String frame curve volumes at the dS minimum\",fontsize=10)\n",
    "plt.show()"
   ]
  },
  {
   "cell_type": "markdown",
   "id": "be6f9e54-c153-4d01-9906-485e8b3e769b",
   "metadata": {},
   "source": [
    "Lastly, to compute the scalar potential, we have to define the relevant quantities entering e.g. the non-perturbative superpotential:"
   ]
  },
  {
   "cell_type": "code",
   "execution_count": 52,
   "id": "ac1257b2-0bf3-47f0-b09e-f51cd5f02945",
   "metadata": {},
   "outputs": [],
   "source": [
    "rigid_list = np.array(example_5_1[\"rigid divisors\"])\n",
    "dual_cox = np.array(example_5_1[\"dual coxeter numbers\"])\n",
    "Pfaffians = np.array(example_5_1[\"Pfaffians\"])\n",
    "# Deleting conifold divisor\n",
    "Pfaffians[example_5_1[\"coni-deleted divisor\"]-1] = 0.\n",
    "bfield = np.array(example_5_1[\"bfield\"])"
   ]
  },
  {
   "cell_type": "markdown",
   "id": "c34af379-9ba3-4fa9-9203-bc35469e304f",
   "metadata": {},
   "source": [
    "As discussed in our paper, we only take the contributions from pure rigid prime toric divisors into account. In our model, we find that all rigid prime toric divisors are actually pure:"
   ]
  },
  {
   "cell_type": "code",
   "execution_count": 53,
   "id": "f09bb50d-a437-4197-8459-66e2eb1d7dbc",
   "metadata": {
    "tags": []
   },
   "outputs": [
    {
     "data": {
      "text/plain": [
       "True"
      ]
     },
     "execution_count": 53,
     "metadata": {},
     "output_type": "execute_result"
    }
   ],
   "source": [
    "example_5_1[\"pure rigids dS\"]==example_5_1[\"rigid divisors\"]"
   ]
  },
  {
   "cell_type": "markdown",
   "id": "3a2be63b-107b-4d0f-b9f8-3f479afacd5d",
   "metadata": {},
   "source": [
    "Since all rigids are actually pure rigid in the phase of the dS minimum, we can compute the scalar potential and its gradient by using the full list of rigid divisors."
   ]
  },
  {
   "cell_type": "code",
   "execution_count": 54,
   "id": "bfe4d8c7-457e-4ea7-832d-97286063c50f",
   "metadata": {
    "tags": []
   },
   "outputs": [
    {
     "name": "stdout",
     "output_type": "stream",
     "text": [
      "Maximum |dV|:  7.948885700099203e-26\n",
      "Maximum ratio |dV/V|:  4.1034340674708637e-07\n",
      "\n",
      "Computed vacuum energy:  1.9371301133146923e-19\n",
      "Value expected:  1.9371301133146932e-19\n",
      "dS vacuum energy matches expected value:  True\n"
     ]
    }
   ],
   "source": [
    "# Grab uplift information\n",
    "c_uplift = example_5_1[\"c uplift\"]\n",
    "CSFterm = example_5_1[\"CSFterm\"]\n",
    "\n",
    "# Compute the gradient of the scalar potential and the value of the scalar potential itself in one go...\n",
    "dV,V = gradient_potential_km(cy_uplift,kahler_uplift,phi_uplift,rigid_list,dual_cox,W0,gs,Pfaffians,return_potential=True,GV=GVs_uplift,\n",
    "                             bfield=bfield,vtilde=example_5_1[\"volTilde\"],uplift=True,c_uplift=c_uplift,CSFterm=CSFterm)\n",
    "\n",
    "print(\"Maximum |dV|: \",np.max(np.abs(dV)))\n",
    "print(\"Maximum ratio |dV/V|: \",np.max(np.abs(dV)/np.abs(V)))\n",
    "\n",
    "print(\"\")\n",
    "\n",
    "print(\"Computed vacuum energy: \",V)\n",
    "print(\"Value expected: \",example_5_1[\"V dS\"])\n",
    "print(\"dS vacuum energy matches expected value: \", np.abs(V-example_5_1[\"V dS\"])<1e-5)"
   ]
  },
  {
   "cell_type": "markdown",
   "id": "c3940e87-6150-4d4a-a4cf-fa118e4f9523",
   "metadata": {
    "tags": []
   },
   "source": [
    "Next, we can compute the corrected CY volume and divisor volumes as defined in Eq. (2.71) and (2.73) respectively.\n",
    "To this end, we implemented two functions `compute_corrected_divisor_volumes` and `compute_corrected_cy_volume` in [kahler_stabilisation.py](./../kahler_stabilisation.py):"
   ]
  },
  {
   "cell_type": "code",
   "execution_count": 55,
   "id": "d992ee57-528f-41fb-908d-427f4637123c",
   "metadata": {
    "tags": []
   },
   "outputs": [
    {
     "name": "stdout",
     "output_type": "stream",
     "text": [
      "Comparing volumes at the minimum...\n",
      "\n",
      "Corrected divisor volumes match expected value:  True\n",
      "Corrected CY volume matches expected value True\n"
     ]
    }
   ],
   "source": [
    "print(\"Comparing volumes at the minimum...\")\n",
    "\n",
    "print(\"\")\n",
    "\n",
    "corrected_divisor_volumes = compute_corrected_divisor_volumes(cy_uplift,kahler_uplift,gs,bfield=bfield,GV=GVs_uplift)\n",
    "\n",
    "print(\"Corrected divisor volumes match expected value: \", np.abs(np.max(corrected_divisor_volumes-np.array(example_5_1[\"corrected divisor volumes dS\"])))<1e-5)\n",
    "\n",
    "CY_volume_str_frame = compute_corrected_cy_volume(cy_uplift,kahler_uplift,gs,bfield=bfield,GV=GVs_uplift)\n",
    "\n",
    "print(\"Corrected CY volume matches expected value\", np.abs(np.max(example_5_1[\"corrected CY volume dS\"]*gs**(3/2)-CY_volume_str_frame))<1e-5)"
   ]
  },
  {
   "cell_type": "markdown",
   "id": "0b3a3677-4287-4d0d-84ba-807b3e43444c",
   "metadata": {},
   "source": [
    "**In summary, we verified the values stated in section 5.1 of our paper.**"
   ]
  }
 ],
 "metadata": {
  "kernelspec": {
   "display_name": "Python 3 (ipykernel)",
   "language": "python",
   "name": "python3"
  },
  "language_info": {
   "codemirror_mode": {
    "name": "ipython",
    "version": 3
   },
   "file_extension": ".py",
   "mimetype": "text/x-python",
   "name": "python",
   "nbconvert_exporter": "python",
   "pygments_lexer": "ipython3",
   "version": "3.11.9"
  }
 },
 "nbformat": 4,
 "nbformat_minor": 5
}
